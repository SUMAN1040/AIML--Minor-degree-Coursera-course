{
 "cells": [
  {
   "cell_type": "code",
   "execution_count": 2,
   "metadata": {},
   "outputs": [
    {
     "name": "stdout",
     "output_type": "stream",
     "text": [
      "        Date    Revenue\n",
      "5 2021-06-30  463923045\n",
      "6 2021-09-30  485207236\n",
      "7 2021-12-31  111681665\n",
      "8 2022-03-31  338265302\n",
      "9 2022-06-30   97872958\n"
     ]
    },
    {
     "name": "stderr",
     "output_type": "stream",
     "text": [
      "C:\\Users\\skdey\\AppData\\Local\\Temp\\ipykernel_6036\\1320392942.py:6: FutureWarning: 'Q' is deprecated and will be removed in a future version, please use 'QE' instead.\n",
      "  \"Date\": pd.date_range(start=\"2020-01-01\", periods=10, freq=\"Q\"),  # Quarterly data\n"
     ]
    }
   ],
   "source": [
    "import pandas as pd\n",
    "import numpy as np\n",
    "\n",
    "# Creating dummy revenue data\n",
    "data = {\n",
    "    \"Date\": pd.date_range(start=\"2020-01-01\", periods=10, freq=\"Q\"),  # Quarterly data\n",
    "    \"Revenue\": np.random.randint(50000000, 500000000, 10)  # Random revenue values\n",
    "}\n",
    "\n",
    "# Creating a DataFrame\n",
    "gme_revenue = pd.DataFrame(data)\n",
    "\n",
    "# Display last five rows using tail()\n",
    "print(gme_revenue.tail())\n",
    "\n",
    "# Save to CSV (optional)\n",
    "gme_revenue.to_csv(\"gme_revenue_dummy.csv\", index=False)\n"
   ]
  }
 ],
 "metadata": {
  "kernelspec": {
   "display_name": "Python 3",
   "language": "python",
   "name": "python3"
  },
  "language_info": {
   "codemirror_mode": {
    "name": "ipython",
    "version": 3
   },
   "file_extension": ".py",
   "mimetype": "text/x-python",
   "name": "python",
   "nbconvert_exporter": "python",
   "pygments_lexer": "ipython3",
   "version": "3.13.2"
  }
 },
 "nbformat": 4,
 "nbformat_minor": 2
}
