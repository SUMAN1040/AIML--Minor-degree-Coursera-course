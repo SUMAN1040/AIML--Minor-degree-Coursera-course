{
 "cells": [
  {
   "cell_type": "code",
   "execution_count": 2,
   "metadata": {},
   "outputs": [
    {
     "name": "stdout",
     "output_type": "stream",
     "text": [
      "        Date   Open   High    Low  Close   Volume  Adj Close\n",
      "0 2024-03-01  20.20  40.31  12.39  37.74  1140791      39.48\n",
      "1 2024-03-02  26.35  33.77   9.51  23.72  2932538      23.84\n",
      "2 2024-03-03  13.20  48.57   5.49  22.37  3262791      30.29\n",
      "3 2024-03-04  19.88  43.19   9.06  38.04  3703819      26.97\n",
      "4 2024-03-05  22.38  32.69   5.80  37.29  2143135      31.44\n"
     ]
    }
   ],
   "source": [
    "import pandas as pd\n",
    "import numpy as np\n",
    "\n",
    "# Creating dummy data\n",
    "data = {\n",
    "    \"Date\": pd.date_range(start=\"2024-03-01\", periods=10, freq=\"D\"),\n",
    "    \"Open\": np.random.uniform(10, 30, 10).round(2),\n",
    "    \"High\": np.random.uniform(30, 50, 10).round(2),\n",
    "    \"Low\": np.random.uniform(5, 15, 10).round(2),\n",
    "    \"Close\": np.random.uniform(20, 40, 10).round(2),\n",
    "    \"Volume\": np.random.randint(500000, 5000000, 10),\n",
    "    \"Adj Close\": np.random.uniform(20, 40, 10).round(2),\n",
    "}\n",
    "\n",
    "# Creating a DataFrame\n",
    "gme_data = pd.DataFrame(data)\n",
    "\n",
    "# Reset index, save, and display first five rows\n",
    "gme_data.reset_index(drop=True, inplace=True)\n",
    "print(gme_data.head())\n",
    "\n",
    "# Save to CSV (optional)\n",
    "gme_data.to_csv(\"gme_stock_data_dummy.csv\", index=False)\n"
   ]
  }
 ],
 "metadata": {
  "kernelspec": {
   "display_name": "Python 3",
   "language": "python",
   "name": "python3"
  },
  "language_info": {
   "codemirror_mode": {
    "name": "ipython",
    "version": 3
   },
   "file_extension": ".py",
   "mimetype": "text/x-python",
   "name": "python",
   "nbconvert_exporter": "python",
   "pygments_lexer": "ipython3",
   "version": "3.13.2"
  }
 },
 "nbformat": 4,
 "nbformat_minor": 2
}
