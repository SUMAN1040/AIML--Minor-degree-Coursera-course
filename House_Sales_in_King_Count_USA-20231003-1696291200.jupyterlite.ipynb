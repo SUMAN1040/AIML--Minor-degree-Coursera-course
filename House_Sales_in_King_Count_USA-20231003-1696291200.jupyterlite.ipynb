{
 "cells": [
  {
   "cell_type": "markdown",
   "id": "0b954d2b-0077-42f8-9c42-75d33606c792",
   "metadata": {},
   "source": [
    "<p style=\"text-align:center\">\n",
    "    <a href=\"https://skills.network/?utm_medium=Exinfluencer&utm_source=Exinfluencer&utm_content=000026UJ&utm_term=10006555&utm_id=NA-SkillsNetwork-Channel-SkillsNetworkCoursesIBMDeveloperSkillsNetworkML0101ENSkillsNetwork20718538-2022-01-01\" target=\"_blank\">\n",
    "    <img src=\"https://cf-courses-data.s3.us.cloud-object-storage.appdomain.cloud/assets/logos/SN_web_lightmode.png\" width=\"300\" alt=\"Skills Network Logo\">\n",
    "    </a>\n",
    "</p>\n",
    "\n",
    "<h1 align=\"center\"><font size=\"5\">Final Project: House Sales in King County, USA </font></h1>\n"
   ]
  },
  {
   "cell_type": "code",
   "execution_count": 2,
   "metadata": {},
   "outputs": [
    {
     "data": {
      "text/html": [
       "<div>\n",
       "<style scoped>\n",
       "    .dataframe tbody tr th:only-of-type {\n",
       "        vertical-align: middle;\n",
       "    }\n",
       "\n",
       "    .dataframe tbody tr th {\n",
       "        vertical-align: top;\n",
       "    }\n",
       "\n",
       "    .dataframe thead th {\n",
       "        text-align: right;\n",
       "    }\n",
       "</style>\n",
       "<table border=\"1\" class=\"dataframe\">\n",
       "  <thead>\n",
       "    <tr style=\"text-align: right;\">\n",
       "      <th></th>\n",
       "      <th>id</th>\n",
       "      <th>date</th>\n",
       "      <th>price</th>\n",
       "      <th>bedrooms</th>\n",
       "      <th>bathrooms</th>\n",
       "      <th>sqft_living</th>\n",
       "      <th>sqft_lot</th>\n",
       "      <th>floors</th>\n",
       "      <th>waterfront</th>\n",
       "      <th>view</th>\n",
       "      <th>...</th>\n",
       "      <th>grade</th>\n",
       "      <th>sqft_above</th>\n",
       "      <th>sqft_basement</th>\n",
       "      <th>yr_built</th>\n",
       "      <th>yr_renovated</th>\n",
       "      <th>zipcode</th>\n",
       "      <th>lat</th>\n",
       "      <th>long</th>\n",
       "      <th>sqft_living15</th>\n",
       "      <th>sqft_lot15</th>\n",
       "    </tr>\n",
       "  </thead>\n",
       "  <tbody>\n",
       "    <tr>\n",
       "      <th>0</th>\n",
       "      <td>1001</td>\n",
       "      <td>2023-01-01</td>\n",
       "      <td>450000</td>\n",
       "      <td>3</td>\n",
       "      <td>2.0</td>\n",
       "      <td>1500</td>\n",
       "      <td>5000</td>\n",
       "      <td>1</td>\n",
       "      <td>0</td>\n",
       "      <td>0</td>\n",
       "      <td>...</td>\n",
       "      <td>7</td>\n",
       "      <td>1500</td>\n",
       "      <td>0</td>\n",
       "      <td>1995</td>\n",
       "      <td>0</td>\n",
       "      <td>98101</td>\n",
       "      <td>47.60</td>\n",
       "      <td>-122.33</td>\n",
       "      <td>1400</td>\n",
       "      <td>4000</td>\n",
       "    </tr>\n",
       "    <tr>\n",
       "      <th>1</th>\n",
       "      <td>1002</td>\n",
       "      <td>2023-02-15</td>\n",
       "      <td>520000</td>\n",
       "      <td>4</td>\n",
       "      <td>2.5</td>\n",
       "      <td>2000</td>\n",
       "      <td>6000</td>\n",
       "      <td>2</td>\n",
       "      <td>1</td>\n",
       "      <td>1</td>\n",
       "      <td>...</td>\n",
       "      <td>8</td>\n",
       "      <td>1800</td>\n",
       "      <td>200</td>\n",
       "      <td>2005</td>\n",
       "      <td>2015</td>\n",
       "      <td>98102</td>\n",
       "      <td>47.61</td>\n",
       "      <td>-122.34</td>\n",
       "      <td>1900</td>\n",
       "      <td>5000</td>\n",
       "    </tr>\n",
       "    <tr>\n",
       "      <th>2</th>\n",
       "      <td>1003</td>\n",
       "      <td>2023-03-20</td>\n",
       "      <td>610000</td>\n",
       "      <td>3</td>\n",
       "      <td>1.5</td>\n",
       "      <td>1700</td>\n",
       "      <td>7000</td>\n",
       "      <td>1</td>\n",
       "      <td>0</td>\n",
       "      <td>2</td>\n",
       "      <td>...</td>\n",
       "      <td>6</td>\n",
       "      <td>1700</td>\n",
       "      <td>0</td>\n",
       "      <td>1980</td>\n",
       "      <td>0</td>\n",
       "      <td>98103</td>\n",
       "      <td>47.62</td>\n",
       "      <td>-122.35</td>\n",
       "      <td>1600</td>\n",
       "      <td>6000</td>\n",
       "    </tr>\n",
       "    <tr>\n",
       "      <th>3</th>\n",
       "      <td>1004</td>\n",
       "      <td>2023-04-10</td>\n",
       "      <td>700000</td>\n",
       "      <td>5</td>\n",
       "      <td>3.0</td>\n",
       "      <td>2500</td>\n",
       "      <td>8000</td>\n",
       "      <td>2</td>\n",
       "      <td>0</td>\n",
       "      <td>3</td>\n",
       "      <td>...</td>\n",
       "      <td>9</td>\n",
       "      <td>2200</td>\n",
       "      <td>300</td>\n",
       "      <td>2010</td>\n",
       "      <td>2018</td>\n",
       "      <td>98104</td>\n",
       "      <td>47.63</td>\n",
       "      <td>-122.36</td>\n",
       "      <td>2300</td>\n",
       "      <td>7000</td>\n",
       "    </tr>\n",
       "    <tr>\n",
       "      <th>4</th>\n",
       "      <td>1005</td>\n",
       "      <td>2023-05-05</td>\n",
       "      <td>850000</td>\n",
       "      <td>4</td>\n",
       "      <td>2.0</td>\n",
       "      <td>2200</td>\n",
       "      <td>7500</td>\n",
       "      <td>2</td>\n",
       "      <td>1</td>\n",
       "      <td>4</td>\n",
       "      <td>...</td>\n",
       "      <td>7</td>\n",
       "      <td>2000</td>\n",
       "      <td>200</td>\n",
       "      <td>2000</td>\n",
       "      <td>2010</td>\n",
       "      <td>98105</td>\n",
       "      <td>47.64</td>\n",
       "      <td>-122.37</td>\n",
       "      <td>2100</td>\n",
       "      <td>6500</td>\n",
       "    </tr>\n",
       "  </tbody>\n",
       "</table>\n",
       "<p>5 rows × 21 columns</p>\n",
       "</div>"
      ],
      "text/plain": [
       "     id        date   price  bedrooms  bathrooms  sqft_living  sqft_lot  \\\n",
       "0  1001  2023-01-01  450000         3        2.0         1500      5000   \n",
       "1  1002  2023-02-15  520000         4        2.5         2000      6000   \n",
       "2  1003  2023-03-20  610000         3        1.5         1700      7000   \n",
       "3  1004  2023-04-10  700000         5        3.0         2500      8000   \n",
       "4  1005  2023-05-05  850000         4        2.0         2200      7500   \n",
       "\n",
       "   floors  waterfront  view  ...  grade  sqft_above  sqft_basement  yr_built  \\\n",
       "0       1           0     0  ...      7        1500              0      1995   \n",
       "1       2           1     1  ...      8        1800            200      2005   \n",
       "2       1           0     2  ...      6        1700              0      1980   \n",
       "3       2           0     3  ...      9        2200            300      2010   \n",
       "4       2           1     4  ...      7        2000            200      2000   \n",
       "\n",
       "   yr_renovated  zipcode    lat    long  sqft_living15  sqft_lot15  \n",
       "0             0    98101  47.60 -122.33           1400        4000  \n",
       "1          2015    98102  47.61 -122.34           1900        5000  \n",
       "2             0    98103  47.62 -122.35           1600        6000  \n",
       "3          2018    98104  47.63 -122.36           2300        7000  \n",
       "4          2010    98105  47.64 -122.37           2100        6500  \n",
       "\n",
       "[5 rows x 21 columns]"
      ]
     },
     "execution_count": 2,
     "metadata": {},
     "output_type": "execute_result"
    }
   ],
   "source": [
    "import pandas as pd\n",
    "import random\n",
    "\n",
    "# Create a dictionary with sample data\n",
    "data = {\n",
    "    'id': [1001, 1002, 1003, 1004, 1005],\n",
    "    'date': ['2023-01-01', '2023-02-15', '2023-03-20', '2023-04-10', '2023-05-05'],\n",
    "    'price': [450000, 520000, 610000, 700000, 850000],\n",
    "    'bedrooms': [3, 4, 3, 5, 4],\n",
    "    'bathrooms': [2, 2.5, 1.5, 3, 2],\n",
    "    'sqft_living': [1500, 2000, 1700, 2500, 2200],\n",
    "    'sqft_lot': [5000, 6000, 7000, 8000, 7500],\n",
    "    'floors': [1, 2, 1, 2, 2],\n",
    "    'waterfront': [0, 1, 0, 0, 1],\n",
    "    'view': [0, 1, 2, 3, 4],\n",
    "    'condition': [3, 4, 3, 5, 4],\n",
    "    'grade': [7, 8, 6, 9, 7],\n",
    "    'sqft_above': [1500, 1800, 1700, 2200, 2000],\n",
    "    'sqft_basement': [0, 200, 0, 300, 200],\n",
    "    'yr_built': [1995, 2005, 1980, 2010, 2000],\n",
    "    'yr_renovated': [0, 2015, 0, 2018, 2010],\n",
    "    'zipcode': [98101, 98102, 98103, 98104, 98105],\n",
    "    'lat': [47.60, 47.61, 47.62, 47.63, 47.64],\n",
    "    'long': [-122.33, -122.34, -122.35, -122.36, -122.37],\n",
    "    'sqft_living15': [1400, 1900, 1600, 2300, 2100],\n",
    "    'sqft_lot15': [4000, 5000, 6000, 7000, 6500]\n",
    "}\n",
    "\n",
    "# Create DataFrame\n",
    "df_dummy = pd.DataFrame(data)\n",
    "\n",
    "# Display the DataFrame\n",
    "df_dummy\n"
   ]
  },
  {
   "cell_type": "code",
   "execution_count": 3,
   "metadata": {},
   "outputs": [
    {
     "name": "stdout",
     "output_type": "stream",
     "text": [
      "               price  bedrooms  bathrooms  sqft_living     sqft_lot    floors  \\\n",
      "count       5.000000   5.00000   5.000000     5.000000     5.000000  5.000000   \n",
      "mean   626000.000000   3.80000   2.200000  1980.000000  6700.000000  1.600000   \n",
      "std    156620.560592   0.83666   0.570088   396.232255  1204.159458  0.547723   \n",
      "min    450000.000000   3.00000   1.500000  1500.000000  5000.000000  1.000000   \n",
      "25%    520000.000000   3.00000   2.000000  1700.000000  6000.000000  1.000000   \n",
      "50%    610000.000000   4.00000   2.000000  2000.000000  7000.000000  2.000000   \n",
      "75%    700000.000000   4.00000   2.500000  2200.000000  7500.000000  2.000000   \n",
      "max    850000.000000   5.00000   3.000000  2500.000000  8000.000000  2.000000   \n",
      "\n",
      "       waterfront      view  condition     grade   sqft_above  sqft_basement  \\\n",
      "count    5.000000  5.000000    5.00000  5.000000     5.000000       5.000000   \n",
      "mean     0.400000  2.000000    3.80000  7.400000  1840.000000     140.000000   \n",
      "std      0.547723  1.581139    0.83666  1.140175   270.185122     134.164079   \n",
      "min      0.000000  0.000000    3.00000  6.000000  1500.000000       0.000000   \n",
      "25%      0.000000  1.000000    3.00000  7.000000  1700.000000       0.000000   \n",
      "50%      0.000000  2.000000    4.00000  7.000000  1800.000000     200.000000   \n",
      "75%      1.000000  3.000000    4.00000  8.000000  2000.000000     200.000000   \n",
      "max      1.000000  4.000000    5.00000  9.000000  2200.000000     300.000000   \n",
      "\n",
      "          yr_built  yr_renovated       zipcode        lat        long  \\\n",
      "count     5.000000      5.000000      5.000000   5.000000    5.000000   \n",
      "mean   1998.000000   1208.600000  98103.000000  47.620000 -122.350000   \n",
      "std      11.510864   1103.299506      1.581139   0.015811    0.015811   \n",
      "min    1980.000000      0.000000  98101.000000  47.600000 -122.370000   \n",
      "25%    1995.000000      0.000000  98102.000000  47.610000 -122.360000   \n",
      "50%    2000.000000   2010.000000  98103.000000  47.620000 -122.350000   \n",
      "75%    2005.000000   2015.000000  98104.000000  47.630000 -122.340000   \n",
      "max    2010.000000   2018.000000  98105.000000  47.640000 -122.330000   \n",
      "\n",
      "       sqft_living15   sqft_lot15  \n",
      "count       5.000000     5.000000  \n",
      "mean     1860.000000  5700.000000  \n",
      "std       364.691651  1204.159458  \n",
      "min      1400.000000  4000.000000  \n",
      "25%      1600.000000  5000.000000  \n",
      "50%      1900.000000  6000.000000  \n",
      "75%      2100.000000  6500.000000  \n",
      "max      2300.000000  7000.000000  \n"
     ]
    }
   ],
   "source": [
    "import pandas as pd\n",
    "import random\n",
    "\n",
    "# Create a dictionary with sample data\n",
    "data = {\n",
    "    'id': [1001, 1002, 1003, 1004, 1005],\n",
    "    'date': ['2023-01-01', '2023-02-15', '2023-03-20', '2023-04-10', '2023-05-05'],\n",
    "    'price': [450000, 520000, 610000, 700000, 850000],\n",
    "    'bedrooms': [3, 4, 3, 5, 4],\n",
    "    'bathrooms': [2, 2.5, 1.5, 3, 2],\n",
    "    'sqft_living': [1500, 2000, 1700, 2500, 2200],\n",
    "    'sqft_lot': [5000, 6000, 7000, 8000, 7500],\n",
    "    'floors': [1, 2, 1, 2, 2],\n",
    "    'waterfront': [0, 1, 0, 0, 1],\n",
    "    'view': [0, 1, 2, 3, 4],\n",
    "    'condition': [3, 4, 3, 5, 4],\n",
    "    'grade': [7, 8, 6, 9, 7],\n",
    "    'sqft_above': [1500, 1800, 1700, 2200, 2000],\n",
    "    'sqft_basement': [0, 200, 0, 300, 200],\n",
    "    'yr_built': [1995, 2005, 1980, 2010, 2000],\n",
    "    'yr_renovated': [0, 2015, 0, 2018, 2010],\n",
    "    'zipcode': [98101, 98102, 98103, 98104, 98105],\n",
    "    'lat': [47.60, 47.61, 47.62, 47.63, 47.64],\n",
    "    'long': [-122.33, -122.34, -122.35, -122.36, -122.37],\n",
    "    'sqft_living15': [1400, 1900, 1600, 2300, 2100],\n",
    "    'sqft_lot15': [4000, 5000, 6000, 7000, 6500]\n",
    "}\n",
    "\n",
    "# Create DataFrame\n",
    "df_dummy = pd.DataFrame(data)\n",
    "\n",
    "# Drop columns 'id' and 'Unnamed: 0'\n",
    "df_dummy.drop(columns=['id', 'Unnamed: 0'], axis=1, inplace=True, errors='ignore')\n",
    "\n",
    "# Display statistical summary\n",
    "print(df_dummy.describe())\n"
   ]
  },
  {
   "cell_type": "code",
   "execution_count": 4,
   "metadata": {},
   "outputs": [
    {
     "name": "stdout",
     "output_type": "stream",
     "text": [
      "               price  bedrooms  bathrooms  sqft_living     sqft_lot    floors  \\\n",
      "count       5.000000   5.00000   5.000000     5.000000     5.000000  5.000000   \n",
      "mean   626000.000000   3.80000   2.200000  1980.000000  6700.000000  1.600000   \n",
      "std    156620.560592   0.83666   0.570088   396.232255  1204.159458  0.547723   \n",
      "min    450000.000000   3.00000   1.500000  1500.000000  5000.000000  1.000000   \n",
      "25%    520000.000000   3.00000   2.000000  1700.000000  6000.000000  1.000000   \n",
      "50%    610000.000000   4.00000   2.000000  2000.000000  7000.000000  2.000000   \n",
      "75%    700000.000000   4.00000   2.500000  2200.000000  7500.000000  2.000000   \n",
      "max    850000.000000   5.00000   3.000000  2500.000000  8000.000000  2.000000   \n",
      "\n",
      "       waterfront      view  condition     grade   sqft_above  sqft_basement  \\\n",
      "count    5.000000  5.000000    5.00000  5.000000     5.000000       5.000000   \n",
      "mean     0.400000  2.000000    3.80000  7.400000  1840.000000     140.000000   \n",
      "std      0.547723  1.581139    0.83666  1.140175   270.185122     134.164079   \n",
      "min      0.000000  0.000000    3.00000  6.000000  1500.000000       0.000000   \n",
      "25%      0.000000  1.000000    3.00000  7.000000  1700.000000       0.000000   \n",
      "50%      0.000000  2.000000    4.00000  7.000000  1800.000000     200.000000   \n",
      "75%      1.000000  3.000000    4.00000  8.000000  2000.000000     200.000000   \n",
      "max      1.000000  4.000000    5.00000  9.000000  2200.000000     300.000000   \n",
      "\n",
      "          yr_built  yr_renovated       zipcode        lat        long  \\\n",
      "count     5.000000      5.000000      5.000000   5.000000    5.000000   \n",
      "mean   1998.000000   1208.600000  98103.000000  47.620000 -122.350000   \n",
      "std      11.510864   1103.299506      1.581139   0.015811    0.015811   \n",
      "min    1980.000000      0.000000  98101.000000  47.600000 -122.370000   \n",
      "25%    1995.000000      0.000000  98102.000000  47.610000 -122.360000   \n",
      "50%    2000.000000   2010.000000  98103.000000  47.620000 -122.350000   \n",
      "75%    2005.000000   2015.000000  98104.000000  47.630000 -122.340000   \n",
      "max    2010.000000   2018.000000  98105.000000  47.640000 -122.330000   \n",
      "\n",
      "       sqft_living15   sqft_lot15  \n",
      "count       5.000000     5.000000  \n",
      "mean     1860.000000  5700.000000  \n",
      "std       364.691651  1204.159458  \n",
      "min      1400.000000  4000.000000  \n",
      "25%      1600.000000  5000.000000  \n",
      "50%      1900.000000  6000.000000  \n",
      "75%      2100.000000  6500.000000  \n",
      "max      2300.000000  7000.000000  \n",
      "        count\n",
      "floors       \n",
      "2           3\n",
      "1           2\n"
     ]
    }
   ],
   "source": [
    "import pandas as pd\n",
    "import random\n",
    "\n",
    "# Create a dictionary with sample data\n",
    "data = {\n",
    "    'id': [1001, 1002, 1003, 1004, 1005],\n",
    "    'date': ['2023-01-01', '2023-02-15', '2023-03-20', '2023-04-10', '2023-05-05'],\n",
    "    'price': [450000, 520000, 610000, 700000, 850000],\n",
    "    'bedrooms': [3, 4, 3, 5, 4],\n",
    "    'bathrooms': [2, 2.5, 1.5, 3, 2],\n",
    "    'sqft_living': [1500, 2000, 1700, 2500, 2200],\n",
    "    'sqft_lot': [5000, 6000, 7000, 8000, 7500],\n",
    "    'floors': [1, 2, 1, 2, 2],\n",
    "    'waterfront': [0, 1, 0, 0, 1],\n",
    "    'view': [0, 1, 2, 3, 4],\n",
    "    'condition': [3, 4, 3, 5, 4],\n",
    "    'grade': [7, 8, 6, 9, 7],\n",
    "    'sqft_above': [1500, 1800, 1700, 2200, 2000],\n",
    "    'sqft_basement': [0, 200, 0, 300, 200],\n",
    "    'yr_built': [1995, 2005, 1980, 2010, 2000],\n",
    "    'yr_renovated': [0, 2015, 0, 2018, 2010],\n",
    "    'zipcode': [98101, 98102, 98103, 98104, 98105],\n",
    "    'lat': [47.60, 47.61, 47.62, 47.63, 47.64],\n",
    "    'long': [-122.33, -122.34, -122.35, -122.36, -122.37],\n",
    "    'sqft_living15': [1400, 1900, 1600, 2300, 2100],\n",
    "    'sqft_lot15': [4000, 5000, 6000, 7000, 6500]\n",
    "}\n",
    "\n",
    "# Create DataFrame\n",
    "df_dummy = pd.DataFrame(data)\n",
    "\n",
    "# Drop columns 'id' and 'Unnamed: 0'\n",
    "df_dummy.drop(columns=['id', 'Unnamed: 0'], axis=1, inplace=True, errors='ignore')\n",
    "\n",
    "# Display statistical summary\n",
    "print(df_dummy.describe())\n",
    "\n",
    "# Count unique floor values and convert to DataFrame\n",
    "floor_counts_df = df_dummy['floors'].value_counts().to_frame()\n",
    "print(floor_counts_df)\n"
   ]
  },
  {
   "cell_type": "code",
   "execution_count": 10,
   "metadata": {},
   "outputs": [
    {
     "name": "stdout",
     "output_type": "stream",
     "text": [
      "               price  bedrooms  bathrooms  sqft_living     sqft_lot    floors  \\\n",
      "count       5.000000   5.00000   5.000000     5.000000     5.000000  5.000000   \n",
      "mean   626000.000000   3.80000   2.200000  1980.000000  6700.000000  1.600000   \n",
      "std    156620.560592   0.83666   0.570088   396.232255  1204.159458  0.547723   \n",
      "min    450000.000000   3.00000   1.500000  1500.000000  5000.000000  1.000000   \n",
      "25%    520000.000000   3.00000   2.000000  1700.000000  6000.000000  1.000000   \n",
      "50%    610000.000000   4.00000   2.000000  2000.000000  7000.000000  2.000000   \n",
      "75%    700000.000000   4.00000   2.500000  2200.000000  7500.000000  2.000000   \n",
      "max    850000.000000   5.00000   3.000000  2500.000000  8000.000000  2.000000   \n",
      "\n",
      "       waterfront      view  condition     grade   sqft_above  sqft_basement  \\\n",
      "count    5.000000  5.000000    5.00000  5.000000     5.000000       5.000000   \n",
      "mean     0.400000  2.000000    3.80000  7.400000  1840.000000     140.000000   \n",
      "std      0.547723  1.581139    0.83666  1.140175   270.185122     134.164079   \n",
      "min      0.000000  0.000000    3.00000  6.000000  1500.000000       0.000000   \n",
      "25%      0.000000  1.000000    3.00000  7.000000  1700.000000       0.000000   \n",
      "50%      0.000000  2.000000    4.00000  7.000000  1800.000000     200.000000   \n",
      "75%      1.000000  3.000000    4.00000  8.000000  2000.000000     200.000000   \n",
      "max      1.000000  4.000000    5.00000  9.000000  2200.000000     300.000000   \n",
      "\n",
      "          yr_built  yr_renovated       zipcode        lat        long  \\\n",
      "count     5.000000      5.000000      5.000000   5.000000    5.000000   \n",
      "mean   1998.000000   1208.600000  98103.000000  47.620000 -122.350000   \n",
      "std      11.510864   1103.299506      1.581139   0.015811    0.015811   \n",
      "min    1980.000000      0.000000  98101.000000  47.600000 -122.370000   \n",
      "25%    1995.000000      0.000000  98102.000000  47.610000 -122.360000   \n",
      "50%    2000.000000   2010.000000  98103.000000  47.620000 -122.350000   \n",
      "75%    2005.000000   2015.000000  98104.000000  47.630000 -122.340000   \n",
      "max    2010.000000   2018.000000  98105.000000  47.640000 -122.330000   \n",
      "\n",
      "       sqft_living15   sqft_lot15  \n",
      "count       5.000000     5.000000  \n",
      "mean     1860.000000  5700.000000  \n",
      "std       364.691651  1204.159458  \n",
      "min      1400.000000  4000.000000  \n",
      "25%      1600.000000  5000.000000  \n",
      "50%      1900.000000  6000.000000  \n",
      "75%      2100.000000  6500.000000  \n",
      "max      2300.000000  7000.000000  \n",
      "        count\n",
      "floors       \n",
      "2           3\n",
      "1           2\n"
     ]
    },
    {
     "data": {
      "image/png": "[encoded data removed]",
      "text/plain": [
       "<Figure size 800x600 with 1 Axes>"
      ]
     },
     "metadata": {},
     "output_type": "display_data"
    }
   ],
   "source": [
    "import pandas as pd\n",
    "import random\n",
    "import seaborn as sns\n",
    "import matplotlib.pyplot as plt\n",
    "\n",
    "# Create a dictionary with sample data\n",
    "data = {\n",
    "    'id': [1001, 1002, 1003, 1004, 1005],\n",
    "    'date': ['2023-01-01', '2023-02-15', '2023-03-20', '2023-04-10', '2023-05-05'],\n",
    "    'price': [450000, 520000, 610000, 700000, 850000],\n",
    "    'bedrooms': [3, 4, 3, 5, 4],\n",
    "    'bathrooms': [2, 2.5, 1.5, 3, 2],\n",
    "    'sqft_living': [1500, 2000, 1700, 2500, 2200],\n",
    "    'sqft_lot': [5000, 6000, 7000, 8000, 7500],\n",
    "    'floors': [1, 2, 1, 2, 2],\n",
    "    'waterfront': [0, 1, 0, 0, 1],\n",
    "    'view': [0, 1, 2, 3, 4],\n",
    "    'condition': [3, 4, 3, 5, 4],\n",
    "    'grade': [7, 8, 6, 9, 7],\n",
    "    'sqft_above': [1500, 1800, 1700, 2200, 2000],\n",
    "    'sqft_basement': [0, 200, 0, 300, 200],\n",
    "    'yr_built': [1995, 2005, 1980, 2010, 2000],\n",
    "    'yr_renovated': [0, 2015, 0, 2018, 2010],\n",
    "    'zipcode': [98101, 98102, 98103, 98104, 98105],\n",
    "    'lat': [47.60, 47.61, 47.62, 47.63, 47.64],\n",
    "    'long': [-122.33, -122.34, -122.35, -122.36, -122.37],\n",
    "    'sqft_living15': [1400, 1900, 1600, 2300, 2100],\n",
    "    'sqft_lot15': [4000, 5000, 6000, 7000, 6500]\n",
    "}\n",
    "\n",
    "# Create DataFrame\n",
    "df_dummy = pd.DataFrame(data)\n",
    "\n",
    "# Drop columns 'id' and 'Unnamed: 0'\n",
    "df_dummy.drop(columns=['id', 'Unnamed: 0'], axis=1, inplace=True, errors='ignore')\n",
    "\n",
    "# Display statistical summary\n",
    "print(df_dummy.describe())\n",
    "\n",
    "# Count unique floor values and convert to DataFrame\n",
    "floor_counts_df = df_dummy['floors'].value_counts().to_frame()\n",
    "print(floor_counts_df)\n",
    "\n",
    "# Boxplot for waterfront vs. price\n",
    "plt.figure(figsize=(8, 6))\n",
    "sns.boxplot(x='waterfront', y='price', data=df_dummy)\n",
    "plt.title('Boxplot of House Prices by Waterfront View')\n",
    "plt.xlabel('Waterfront (0 = No, 1 = Yes)')\n",
    "plt.ylabel('Price')\n",
    "plt.show()\n"
   ]
  },
  {
   "cell_type": "code",
   "execution_count": 11,
   "metadata": {},
   "outputs": [
    {
     "name": "stdout",
     "output_type": "stream",
     "text": [
      "               price  bedrooms  bathrooms  sqft_living     sqft_lot    floors  \\\n",
      "count       5.000000   5.00000   5.000000     5.000000     5.000000  5.000000   \n",
      "mean   626000.000000   3.80000   2.200000  1980.000000  6700.000000  1.600000   \n",
      "std    156620.560592   0.83666   0.570088   396.232255  1204.159458  0.547723   \n",
      "min    450000.000000   3.00000   1.500000  1500.000000  5000.000000  1.000000   \n",
      "25%    520000.000000   3.00000   2.000000  1700.000000  6000.000000  1.000000   \n",
      "50%    610000.000000   4.00000   2.000000  2000.000000  7000.000000  2.000000   \n",
      "75%    700000.000000   4.00000   2.500000  2200.000000  7500.000000  2.000000   \n",
      "max    850000.000000   5.00000   3.000000  2500.000000  8000.000000  2.000000   \n",
      "\n",
      "       waterfront      view  condition     grade   sqft_above  sqft_basement  \\\n",
      "count    5.000000  5.000000    5.00000  5.000000     5.000000       5.000000   \n",
      "mean     0.400000  2.000000    3.80000  7.400000  1840.000000     140.000000   \n",
      "std      0.547723  1.581139    0.83666  1.140175   270.185122     134.164079   \n",
      "min      0.000000  0.000000    3.00000  6.000000  1500.000000       0.000000   \n",
      "25%      0.000000  1.000000    3.00000  7.000000  1700.000000       0.000000   \n",
      "50%      0.000000  2.000000    4.00000  7.000000  1800.000000     200.000000   \n",
      "75%      1.000000  3.000000    4.00000  8.000000  2000.000000     200.000000   \n",
      "max      1.000000  4.000000    5.00000  9.000000  2200.000000     300.000000   \n",
      "\n",
      "          yr_built  yr_renovated       zipcode        lat        long  \\\n",
      "count     5.000000      5.000000      5.000000   5.000000    5.000000   \n",
      "mean   1998.000000   1208.600000  98103.000000  47.620000 -122.350000   \n",
      "std      11.510864   1103.299506      1.581139   0.015811    0.015811   \n",
      "min    1980.000000      0.000000  98101.000000  47.600000 -122.370000   \n",
      "25%    1995.000000      0.000000  98102.000000  47.610000 -122.360000   \n",
      "50%    2000.000000   2010.000000  98103.000000  47.620000 -122.350000   \n",
      "75%    2005.000000   2015.000000  98104.000000  47.630000 -122.340000   \n",
      "max    2010.000000   2018.000000  98105.000000  47.640000 -122.330000   \n",
      "\n",
      "       sqft_living15   sqft_lot15  \n",
      "count       5.000000     5.000000  \n",
      "mean     1860.000000  5700.000000  \n",
      "std       364.691651  1204.159458  \n",
      "min      1400.000000  4000.000000  \n",
      "25%      1600.000000  5000.000000  \n",
      "50%      1900.000000  6000.000000  \n",
      "75%      2100.000000  6500.000000  \n",
      "max      2300.000000  7000.000000  \n",
      "        count\n",
      "floors       \n",
      "2           3\n",
      "1           2\n"
     ]
    },
    {
     "data": {
      "image/png": "[encoded data removed]",
      "text/plain": [
       "<Figure size 800x600 with 1 Axes>"
      ]
     },
     "metadata": {},
     "output_type": "display_data"
    },
    {
     "data": {
      "image/png": "[encoded data removed]",
      "text/plain": [
       "<Figure size 800x600 with 1 Axes>"
      ]
     },
     "metadata": {},
     "output_type": "display_data"
    }
   ],
   "source": [
    "import pandas as pd\n",
    "import random\n",
    "import seaborn as sns\n",
    "import matplotlib.pyplot as plt\n",
    "\n",
    "# Create a dictionary with sample data\n",
    "data = {\n",
    "    'id': [1001, 1002, 1003, 1004, 1005],\n",
    "    'date': ['2023-01-01', '2023-02-15', '2023-03-20', '2023-04-10', '2023-05-05'],\n",
    "    'price': [450000, 520000, 610000, 700000, 850000],\n",
    "    'bedrooms': [3, 4, 3, 5, 4],\n",
    "    'bathrooms': [2, 2.5, 1.5, 3, 2],\n",
    "    'sqft_living': [1500, 2000, 1700, 2500, 2200],\n",
    "    'sqft_lot': [5000, 6000, 7000, 8000, 7500],\n",
    "    'floors': [1, 2, 1, 2, 2],\n",
    "    'waterfront': [0, 1, 0, 0, 1],\n",
    "    'view': [0, 1, 2, 3, 4],\n",
    "    'condition': [3, 4, 3, 5, 4],\n",
    "    'grade': [7, 8, 6, 9, 7],\n",
    "    'sqft_above': [1500, 1800, 1700, 2200, 2000],\n",
    "    'sqft_basement': [0, 200, 0, 300, 200],\n",
    "    'yr_built': [1995, 2005, 1980, 2010, 2000],\n",
    "    'yr_renovated': [0, 2015, 0, 2018, 2010],\n",
    "    'zipcode': [98101, 98102, 98103, 98104, 98105],\n",
    "    'lat': [47.60, 47.61, 47.62, 47.63, 47.64],\n",
    "    'long': [-122.33, -122.34, -122.35, -122.36, -122.37],\n",
    "    'sqft_living15': [1400, 1900, 1600, 2300, 2100],\n",
    "    'sqft_lot15': [4000, 5000, 6000, 7000, 6500]\n",
    "}\n",
    "\n",
    "# Create DataFrame\n",
    "df_dummy = pd.DataFrame(data)\n",
    "\n",
    "# Drop columns 'id' and 'Unnamed: 0'\n",
    "df_dummy.drop(columns=['id', 'Unnamed: 0'], axis=1, inplace=True, errors='ignore')\n",
    "\n",
    "# Display statistical summary\n",
    "print(df_dummy.describe())\n",
    "\n",
    "# Count unique floor values and convert to DataFrame\n",
    "floor_counts_df = df_dummy['floors'].value_counts().to_frame()\n",
    "print(floor_counts_df)\n",
    "\n",
    "# Boxplot for waterfront vs. price\n",
    "plt.figure(figsize=(8, 6))\n",
    "sns.boxplot(x='waterfront', y='price', data=df_dummy)\n",
    "plt.title('Boxplot of House Prices by Waterfront View')\n",
    "plt.xlabel('Waterfront (0 = No, 1 = Yes)')\n",
    "plt.ylabel('Price')\n",
    "plt.show()\n",
    "\n",
    "# Regression plot for sqft_above vs. price\n",
    "plt.figure(figsize=(8, 6))\n",
    "sns.regplot(x='sqft_above', y='price', data=df_dummy)\n",
    "plt.title('Regression Plot of Sqft Above vs. Price')\n",
    "plt.xlabel('Sqft Above')\n",
    "plt.ylabel('Price')\n",
    "plt.show()\n"
   ]
  },
  {
   "cell_type": "code",
   "execution_count": 14,
   "metadata": {},
   "outputs": [
    {
     "name": "stdout",
     "output_type": "stream",
     "text": [
      "               price  bedrooms  bathrooms  sqft_living     sqft_lot    floors  \\\n",
      "count       5.000000   5.00000   5.000000     5.000000     5.000000  5.000000   \n",
      "mean   626000.000000   3.80000   2.200000  1980.000000  6700.000000  1.600000   \n",
      "std    156620.560592   0.83666   0.570088   396.232255  1204.159458  0.547723   \n",
      "min    450000.000000   3.00000   1.500000  1500.000000  5000.000000  1.000000   \n",
      "25%    520000.000000   3.00000   2.000000  1700.000000  6000.000000  1.000000   \n",
      "50%    610000.000000   4.00000   2.000000  2000.000000  7000.000000  2.000000   \n",
      "75%    700000.000000   4.00000   2.500000  2200.000000  7500.000000  2.000000   \n",
      "max    850000.000000   5.00000   3.000000  2500.000000  8000.000000  2.000000   \n",
      "\n",
      "       waterfront      view  condition     grade   sqft_above  sqft_basement  \\\n",
      "count    5.000000  5.000000    5.00000  5.000000     5.000000       5.000000   \n",
      "mean     0.400000  2.000000    3.80000  7.400000  1840.000000     140.000000   \n",
      "std      0.547723  1.581139    0.83666  1.140175   270.185122     134.164079   \n",
      "min      0.000000  0.000000    3.00000  6.000000  1500.000000       0.000000   \n",
      "25%      0.000000  1.000000    3.00000  7.000000  1700.000000       0.000000   \n",
      "50%      0.000000  2.000000    4.00000  7.000000  1800.000000     200.000000   \n",
      "75%      1.000000  3.000000    4.00000  8.000000  2000.000000     200.000000   \n",
      "max      1.000000  4.000000    5.00000  9.000000  2200.000000     300.000000   \n",
      "\n",
      "          yr_built  yr_renovated       zipcode        lat        long  \\\n",
      "count     5.000000      5.000000      5.000000   5.000000    5.000000   \n",
      "mean   1998.000000   1208.600000  98103.000000  47.620000 -122.350000   \n",
      "std      11.510864   1103.299506      1.581139   0.015811    0.015811   \n",
      "min    1980.000000      0.000000  98101.000000  47.600000 -122.370000   \n",
      "25%    1995.000000      0.000000  98102.000000  47.610000 -122.360000   \n",
      "50%    2000.000000   2010.000000  98103.000000  47.620000 -122.350000   \n",
      "75%    2005.000000   2015.000000  98104.000000  47.630000 -122.340000   \n",
      "max    2010.000000   2018.000000  98105.000000  47.640000 -122.330000   \n",
      "\n",
      "       sqft_living15   sqft_lot15  \n",
      "count       5.000000     5.000000  \n",
      "mean     1860.000000  5700.000000  \n",
      "std       364.691651  1204.159458  \n",
      "min      1400.000000  4000.000000  \n",
      "25%      1600.000000  5000.000000  \n",
      "50%      1900.000000  6000.000000  \n",
      "75%      2100.000000  6500.000000  \n",
      "max      2300.000000  7000.000000  \n",
      "        count\n",
      "floors       \n",
      "2           3\n",
      "1           2\n"
     ]
    },
    {
     "data": {
      "image/png": "[encoded data removed]",
      "text/plain": [
       "<Figure size 800x600 with 1 Axes>"
      ]
     },
     "metadata": {},
     "output_type": "display_data"
    },
    {
     "data": {
      "image/png": "[encoded data removed]",
      "text/plain": [
       "<Figure size 800x600 with 1 Axes>"
      ]
     },
     "metadata": {},
     "output_type": "display_data"
    },
    {
     "name": "stdout",
     "output_type": "stream",
     "text": [
      "R^2 value: 0.4947334733758998\n"
     ]
    }
   ],
   "source": [
    "import pandas as pd\n",
    "import random\n",
    "import seaborn as sns\n",
    "import matplotlib.pyplot as plt\n",
    "from sklearn.linear_model import LinearRegression\n",
    "from sklearn.metrics import r2_score\n",
    "\n",
    "# Create a dictionary with sample data\n",
    "data = {\n",
    "    'id': [1001, 1002, 1003, 1004, 1005],\n",
    "    'date': ['2023-01-01', '2023-02-15', '2023-03-20', '2023-04-10', '2023-05-05'],\n",
    "    'price': [450000, 520000, 610000, 700000, 850000],\n",
    "    'bedrooms': [3, 4, 3, 5, 4],\n",
    "    'bathrooms': [2, 2.5, 1.5, 3, 2],\n",
    "    'sqft_living': [1500, 2000, 1700, 2500, 2200],\n",
    "    'sqft_lot': [5000, 6000, 7000, 8000, 7500],\n",
    "    'floors': [1, 2, 1, 2, 2],\n",
    "    'waterfront': [0, 1, 0, 0, 1],\n",
    "    'view': [0, 1, 2, 3, 4],\n",
    "    'condition': [3, 4, 3, 5, 4],\n",
    "    'grade': [7, 8, 6, 9, 7],\n",
    "    'sqft_above': [1500, 1800, 1700, 2200, 2000],\n",
    "    'sqft_basement': [0, 200, 0, 300, 200],\n",
    "    'yr_built': [1995, 2005, 1980, 2010, 2000],\n",
    "    'yr_renovated': [0, 2015, 0, 2018, 2010],\n",
    "    'zipcode': [98101, 98102, 98103, 98104, 98105],\n",
    "    'lat': [47.60, 47.61, 47.62, 47.63, 47.64],\n",
    "    'long': [-122.33, -122.34, -122.35, -122.36, -122.37],\n",
    "    'sqft_living15': [1400, 1900, 1600, 2300, 2100],\n",
    "    'sqft_lot15': [4000, 5000, 6000, 7000, 6500]\n",
    "}\n",
    "\n",
    "# Create DataFrame\n",
    "df_dummy = pd.DataFrame(data)\n",
    "\n",
    "# Drop columns 'id' and 'Unnamed: 0'\n",
    "df_dummy.drop(columns=['id', 'Unnamed: 0'], axis=1, inplace=True, errors='ignore')\n",
    "\n",
    "# Display statistical summary\n",
    "print(df_dummy.describe())\n",
    "\n",
    "# Count unique floor values and convert to DataFrame\n",
    "floor_counts_df = df_dummy['floors'].value_counts().to_frame()\n",
    "print(floor_counts_df)\n",
    "\n",
    "# Boxplot for waterfront vs. price\n",
    "plt.figure(figsize=(8, 6))\n",
    "sns.boxplot(x='waterfront', y='price', data=df_dummy)\n",
    "plt.title('Boxplot of House Prices by Waterfront View')\n",
    "plt.xlabel('Waterfront (0 = No, 1 = Yes)')\n",
    "plt.ylabel('Price')\n",
    "plt.show()\n",
    "\n",
    "# Regression plot for sqft_above vs. price\n",
    "plt.figure(figsize=(8, 6))\n",
    "sns.regplot(x='sqft_above', y='price', data=df_dummy)\n",
    "plt.title('Regression Plot of Sqft Above vs. Price')\n",
    "plt.xlabel('Sqft Above')\n",
    "plt.ylabel('Price')\n",
    "plt.show()\n",
    "\n",
    "# Linear Regression Model for sqft_living vs. price\n",
    "X = df_dummy[['sqft_living']]\n",
    "y = df_dummy['price']\n",
    "\n",
    "model = LinearRegression()\n",
    "model.fit(X, y)\n",
    "\n",
    "# Predict and calculate R^2\n",
    "predictions = model.predict(X)\n",
    "r2 = r2_score(y, predictions)\n",
    "print(f'R^2 value: {r2}')\n"
   ]
  },
  {
   "cell_type": "code",
   "execution_count": 15,
   "metadata": {},
   "outputs": [
    {
     "name": "stdout",
     "output_type": "stream",
     "text": [
      "               price  bedrooms  bathrooms  sqft_living     sqft_lot    floors  \\\n",
      "count       5.000000   5.00000   5.000000     5.000000     5.000000  5.000000   \n",
      "mean   626000.000000   3.80000   2.200000  1980.000000  6700.000000  1.600000   \n",
      "std    156620.560592   0.83666   0.570088   396.232255  1204.159458  0.547723   \n",
      "min    450000.000000   3.00000   1.500000  1500.000000  5000.000000  1.000000   \n",
      "25%    520000.000000   3.00000   2.000000  1700.000000  6000.000000  1.000000   \n",
      "50%    610000.000000   4.00000   2.000000  2000.000000  7000.000000  2.000000   \n",
      "75%    700000.000000   4.00000   2.500000  2200.000000  7500.000000  2.000000   \n",
      "max    850000.000000   5.00000   3.000000  2500.000000  8000.000000  2.000000   \n",
      "\n",
      "       waterfront      view  condition     grade   sqft_above  sqft_basement  \\\n",
      "count    5.000000  5.000000    5.00000  5.000000     5.000000       5.000000   \n",
      "mean     0.400000  2.000000    3.80000  7.400000  1840.000000     140.000000   \n",
      "std      0.547723  1.581139    0.83666  1.140175   270.185122     134.164079   \n",
      "min      0.000000  0.000000    3.00000  6.000000  1500.000000       0.000000   \n",
      "25%      0.000000  1.000000    3.00000  7.000000  1700.000000       0.000000   \n",
      "50%      0.000000  2.000000    4.00000  7.000000  1800.000000     200.000000   \n",
      "75%      1.000000  3.000000    4.00000  8.000000  2000.000000     200.000000   \n",
      "max      1.000000  4.000000    5.00000  9.000000  2200.000000     300.000000   \n",
      "\n",
      "          yr_built  yr_renovated       zipcode        lat        long  \\\n",
      "count     5.000000      5.000000      5.000000   5.000000    5.000000   \n",
      "mean   1998.000000   1208.600000  98103.000000  47.620000 -122.350000   \n",
      "std      11.510864   1103.299506      1.581139   0.015811    0.015811   \n",
      "min    1980.000000      0.000000  98101.000000  47.600000 -122.370000   \n",
      "25%    1995.000000      0.000000  98102.000000  47.610000 -122.360000   \n",
      "50%    2000.000000   2010.000000  98103.000000  47.620000 -122.350000   \n",
      "75%    2005.000000   2015.000000  98104.000000  47.630000 -122.340000   \n",
      "max    2010.000000   2018.000000  98105.000000  47.640000 -122.330000   \n",
      "\n",
      "       sqft_living15   sqft_lot15  \n",
      "count       5.000000     5.000000  \n",
      "mean     1860.000000  5700.000000  \n",
      "std       364.691651  1204.159458  \n",
      "min      1400.000000  4000.000000  \n",
      "25%      1600.000000  5000.000000  \n",
      "50%      1900.000000  6000.000000  \n",
      "75%      2100.000000  6500.000000  \n",
      "max      2300.000000  7000.000000  \n",
      "        count\n",
      "floors       \n",
      "2           3\n",
      "1           2\n"
     ]
    },
    {
     "data": {
      "image/png": "[encoded data removed]",
      "text/plain": [
       "<Figure size 800x600 with 1 Axes>"
      ]
     },
     "metadata": {},
     "output_type": "display_data"
    },
    {
     "data": {
      "image/png": "[encoded data removed]",
      "text/plain": [
       "<Figure size 800x600 with 1 Axes>"
      ]
     },
     "metadata": {},
     "output_type": "display_data"
    },
    {
     "name": "stdout",
     "output_type": "stream",
     "text": [
      "R^2 value: 1.0\n"
     ]
    }
   ],
   "source": [
    "import pandas as pd\n",
    "import random\n",
    "import seaborn as sns\n",
    "import matplotlib.pyplot as plt\n",
    "from sklearn.linear_model import LinearRegression\n",
    "from sklearn.metrics import r2_score\n",
    "\n",
    "# Create a dictionary with sample data\n",
    "data = {\n",
    "    'id': [1001, 1002, 1003, 1004, 1005],\n",
    "    'date': ['2023-01-01', '2023-02-15', '2023-03-20', '2023-04-10', '2023-05-05'],\n",
    "    'price': [450000, 520000, 610000, 700000, 850000],\n",
    "    'bedrooms': [3, 4, 3, 5, 4],\n",
    "    'bathrooms': [2, 2.5, 1.5, 3, 2],\n",
    "    'sqft_living': [1500, 2000, 1700, 2500, 2200],\n",
    "    'sqft_lot': [5000, 6000, 7000, 8000, 7500],\n",
    "    'floors': [1, 2, 1, 2, 2],\n",
    "    'waterfront': [0, 1, 0, 0, 1],\n",
    "    'view': [0, 1, 2, 3, 4],\n",
    "    'condition': [3, 4, 3, 5, 4],\n",
    "    'grade': [7, 8, 6, 9, 7],\n",
    "    'sqft_above': [1500, 1800, 1700, 2200, 2000],\n",
    "    'sqft_basement': [0, 200, 0, 300, 200],\n",
    "    'yr_built': [1995, 2005, 1980, 2010, 2000],\n",
    "    'yr_renovated': [0, 2015, 0, 2018, 2010],\n",
    "    'zipcode': [98101, 98102, 98103, 98104, 98105],\n",
    "    'lat': [47.60, 47.61, 47.62, 47.63, 47.64],\n",
    "    'long': [-122.33, -122.34, -122.35, -122.36, -122.37],\n",
    "    'sqft_living15': [1400, 1900, 1600, 2300, 2100],\n",
    "    'sqft_lot15': [4000, 5000, 6000, 7000, 6500]\n",
    "}\n",
    "\n",
    "# Create DataFrame\n",
    "df_dummy = pd.DataFrame(data)\n",
    "\n",
    "# Drop columns 'id' and 'Unnamed: 0'\n",
    "df_dummy.drop(columns=['id', 'Unnamed: 0'], axis=1, inplace=True, errors='ignore')\n",
    "\n",
    "# Display statistical summary\n",
    "print(df_dummy.describe())\n",
    "\n",
    "# Count unique floor values and convert to DataFrame\n",
    "floor_counts_df = df_dummy['floors'].value_counts().to_frame()\n",
    "print(floor_counts_df)\n",
    "\n",
    "# Boxplot for waterfront vs. price\n",
    "plt.figure(figsize=(8, 6))\n",
    "sns.boxplot(x='waterfront', y='price', data=df_dummy)\n",
    "plt.title('Boxplot of House Prices by Waterfront View')\n",
    "plt.xlabel('Waterfront (0 = No, 1 = Yes)')\n",
    "plt.ylabel('Price')\n",
    "plt.show()\n",
    "\n",
    "# Regression plot for sqft_above vs. price\n",
    "plt.figure(figsize=(8, 6))\n",
    "sns.regplot(x='sqft_above', y='price', data=df_dummy)\n",
    "plt.title('Regression Plot of Sqft Above vs. Price')\n",
    "plt.xlabel('Sqft Above')\n",
    "plt.ylabel('Price')\n",
    "plt.show()\n",
    "\n",
    "# Linear Regression Model for selected features vs. price\n",
    "features = [\"floors\", \"waterfront\", \"lat\", \"bedrooms\", \"sqft_basement\", \"view\", \"bathrooms\", \"sqft_living15\", \"sqft_above\", \"grade\", \"sqft_living\"]\n",
    "X = df_dummy[features]\n",
    "y = df_dummy['price']\n",
    "\n",
    "model = LinearRegression()\n",
    "model.fit(X, y)\n",
    "\n",
    "# Predict and calculate R^2\n",
    "predictions = model.predict(X)\n",
    "r2 = r2_score(y, predictions)\n",
    "print(f'R^2 value: {r2}')\n"
   ]
  },
  {
   "cell_type": "code",
   "execution_count": 16,
   "metadata": {},
   "outputs": [
    {
     "name": "stdout",
     "output_type": "stream",
     "text": [
      "Polynomial Regression R^2 value: 1.0\n"
     ]
    }
   ],
   "source": [
    "import pandas as pd\n",
    "import random\n",
    "import seaborn as sns\n",
    "import matplotlib.pyplot as plt\n",
    "from sklearn.linear_model import LinearRegression\n",
    "from sklearn.metrics import r2_score\n",
    "from sklearn.preprocessing import StandardScaler, PolynomialFeatures\n",
    "from sklearn.pipeline import Pipeline\n",
    "\n",
    "# Create a dictionary with sample data\n",
    "data = {\n",
    "    'id': [1001, 1002, 1003, 1004, 1005],\n",
    "    'date': ['2023-01-01', '2023-02-15', '2023-03-20', '2023-04-10', '2023-05-05'],\n",
    "    'price': [450000, 520000, 610000, 700000, 850000],\n",
    "    'bedrooms': [3, 4, 3, 5, 4],\n",
    "    'bathrooms': [2, 2.5, 1.5, 3, 2],\n",
    "    'sqft_living': [1500, 2000, 1700, 2500, 2200],\n",
    "    'sqft_lot': [5000, 6000, 7000, 8000, 7500],\n",
    "    'floors': [1, 2, 1, 2, 2],\n",
    "    'waterfront': [0, 1, 0, 0, 1],\n",
    "    'view': [0, 1, 2, 3, 4],\n",
    "    'condition': [3, 4, 3, 5, 4],\n",
    "    'grade': [7, 8, 6, 9, 7],\n",
    "    'sqft_above': [1500, 1800, 1700, 2200, 2000],\n",
    "    'sqft_basement': [0, 200, 0, 300, 200],\n",
    "    'yr_built': [1995, 2005, 1980, 2010, 2000],\n",
    "    'yr_renovated': [0, 2015, 0, 2018, 2010],\n",
    "    'zipcode': [98101, 98102, 98103, 98104, 98105],\n",
    "    'lat': [47.60, 47.61, 47.62, 47.63, 47.64],\n",
    "    'long': [-122.33, -122.34, -122.35, -122.36, -122.37],\n",
    "    'sqft_living15': [1400, 1900, 1600, 2300, 2100],\n",
    "    'sqft_lot15': [4000, 5000, 6000, 7000, 6500]\n",
    "}\n",
    "\n",
    "# Create DataFrame\n",
    "df_dummy = pd.DataFrame(data)\n",
    "\n",
    "# Drop columns 'id' and 'Unnamed: 0'\n",
    "df_dummy.drop(columns=['id', 'Unnamed: 0'], axis=1, inplace=True, errors='ignore')\n",
    "\n",
    "# Define features and target\n",
    "features = [\"floors\", \"waterfront\", \"lat\", \"bedrooms\", \"sqft_basement\", \"view\", \"bathrooms\", \"sqft_living15\", \"sqft_above\", \"grade\", \"sqft_living\"]\n",
    "X = df_dummy[features]\n",
    "y = df_dummy['price']\n",
    "\n",
    "# Create a pipeline with scaling, polynomial transformation, and linear regression\n",
    "pipeline = Pipeline([\n",
    "    ('scaler', StandardScaler()),\n",
    "    ('poly', PolynomialFeatures(degree=2)),\n",
    "    ('linear_regression', LinearRegression())\n",
    "])\n",
    "\n",
    "# Fit the model\n",
    "pipeline.fit(X, y)\n",
    "\n",
    "# Predict and calculate R^2\n",
    "predictions = pipeline.predict(X)\n",
    "r2 = r2_score(y, predictions)\n",
    "print(f'Polynomial Regression R^2 value: {r2}')\n",
    "\n"
   ]
  },
  {
   "cell_type": "code",
   "execution_count": 17,
   "metadata": {},
   "outputs": [
    {
     "name": "stdout",
     "output_type": "stream",
     "text": [
      "Ridge Regression R^2 value: nan\n"
     ]
    },
    {
     "name": "stderr",
     "output_type": "stream",
     "text": [
      "c:\\Users\\skdey\\AppData\\Local\\Programs\\Python\\Python313\\Lib\\site-packages\\sklearn\\metrics\\_regression.py:1266: UndefinedMetricWarning: R^2 score is not well-defined with less than two samples.\n",
      "  warnings.warn(msg, UndefinedMetricWarning)\n"
     ]
    }
   ],
   "source": [
    "import pandas as pd\n",
    "import random\n",
    "import seaborn as sns\n",
    "import matplotlib.pyplot as plt\n",
    "from sklearn.linear_model import LinearRegression, Ridge\n",
    "from sklearn.metrics import r2_score\n",
    "from sklearn.preprocessing import StandardScaler, PolynomialFeatures\n",
    "from sklearn.pipeline import Pipeline\n",
    "from sklearn.model_selection import train_test_split\n",
    "\n",
    "# Create a dictionary with sample data\n",
    "data = {\n",
    "    'id': [1001, 1002, 1003, 1004, 1005],\n",
    "    'date': ['2023-01-01', '2023-02-15', '2023-03-20', '2023-04-10', '2023-05-05'],\n",
    "    'price': [450000, 520000, 610000, 700000, 850000],\n",
    "    'bedrooms': [3, 4, 3, 5, 4],\n",
    "    'bathrooms': [2, 2.5, 1.5, 3, 2],\n",
    "    'sqft_living': [1500, 2000, 1700, 2500, 2200],\n",
    "    'sqft_lot': [5000, 6000, 7000, 8000, 7500],\n",
    "    'floors': [1, 2, 1, 2, 2],\n",
    "    'waterfront': [0, 1, 0, 0, 1],\n",
    "    'view': [0, 1, 2, 3, 4],\n",
    "    'condition': [3, 4, 3, 5, 4],\n",
    "    'grade': [7, 8, 6, 9, 7],\n",
    "    'sqft_above': [1500, 1800, 1700, 2200, 2000],\n",
    "    'sqft_basement': [0, 200, 0, 300, 200],\n",
    "    'yr_built': [1995, 2005, 1980, 2010, 2000],\n",
    "    'yr_renovated': [0, 2015, 0, 2018, 2010],\n",
    "    'zipcode': [98101, 98102, 98103, 98104, 98105],\n",
    "    'lat': [47.60, 47.61, 47.62, 47.63, 47.64],\n",
    "    'long': [-122.33, -122.34, -122.35, -122.36, -122.37],\n",
    "    'sqft_living15': [1400, 1900, 1600, 2300, 2100],\n",
    "    'sqft_lot15': [4000, 5000, 6000, 7000, 6500]\n",
    "}\n",
    "\n",
    "# Create DataFrame\n",
    "df_dummy = pd.DataFrame(data)\n",
    "\n",
    "# Drop columns 'id' and 'Unnamed: 0'\n",
    "df_dummy.drop(columns=['id', 'Unnamed: 0'], axis=1, inplace=True, errors='ignore')\n",
    "\n",
    "# Define features and target\n",
    "features = [\"floors\", \"waterfront\", \"lat\", \"bedrooms\", \"sqft_basement\", \"view\", \"bathrooms\", \"sqft_living15\", \"sqft_above\", \"grade\", \"sqft_living\"]\n",
    "X = df_dummy[features]\n",
    "y = df_dummy['price']\n",
    "\n",
    "# Split data into training and test sets\n",
    "X_train, X_test, y_train, y_test = train_test_split(X, y, test_size=0.2, random_state=42)\n",
    "\n",
    "# Create and fit Ridge regression model\n",
    "ridge_model = Ridge(alpha=0.1)\n",
    "ridge_model.fit(X_train, y_train)\n",
    "\n",
    "# Predict and calculate R^2 using test data\n",
    "ridge_predictions = ridge_model.predict(X_test)\n",
    "ridge_r2 = r2_score(y_test, ridge_predictions)\n",
    "print(f'Ridge Regression R^2 value: {ridge_r2}')\n"
   ]
  },
  {
   "cell_type": "code",
   "execution_count": 18,
   "metadata": {},
   "outputs": [
    {
     "name": "stdout",
     "output_type": "stream",
     "text": [
      "Polynomial Ridge Regression R^2 value: nan\n"
     ]
    },
    {
     "name": "stderr",
     "output_type": "stream",
     "text": [
      "c:\\Users\\skdey\\AppData\\Local\\Programs\\Python\\Python313\\Lib\\site-packages\\sklearn\\metrics\\_regression.py:1266: UndefinedMetricWarning: R^2 score is not well-defined with less than two samples.\n",
      "  warnings.warn(msg, UndefinedMetricWarning)\n"
     ]
    }
   ],
   "source": [
    "import pandas as pd\n",
    "import random\n",
    "import seaborn as sns\n",
    "import matplotlib.pyplot as plt\n",
    "from sklearn.linear_model import LinearRegression, Ridge\n",
    "from sklearn.metrics import r2_score\n",
    "from sklearn.preprocessing import StandardScaler, PolynomialFeatures\n",
    "from sklearn.pipeline import Pipeline\n",
    "from sklearn.model_selection import train_test_split\n",
    "\n",
    "# Create a dictionary with sample data\n",
    "data = {\n",
    "    'id': [1001, 1002, 1003, 1004, 1005],\n",
    "    'date': ['2023-01-01', '2023-02-15', '2023-03-20', '2023-04-10', '2023-05-05'],\n",
    "    'price': [450000, 520000, 610000, 700000, 850000],\n",
    "    'bedrooms': [3, 4, 3, 5, 4],\n",
    "    'bathrooms': [2, 2.5, 1.5, 3, 2],\n",
    "    'sqft_living': [1500, 2000, 1700, 2500, 2200],\n",
    "    'sqft_lot': [5000, 6000, 7000, 8000, 7500],\n",
    "    'floors': [1, 2, 1, 2, 2],\n",
    "    'waterfront': [0, 1, 0, 0, 1],\n",
    "    'view': [0, 1, 2, 3, 4],\n",
    "    'condition': [3, 4, 3, 5, 4],\n",
    "    'grade': [7, 8, 6, 9, 7],\n",
    "    'sqft_above': [1500, 1800, 1700, 2200, 2000],\n",
    "    'sqft_basement': [0, 200, 0, 300, 200],\n",
    "    'yr_built': [1995, 2005, 1980, 2010, 2000],\n",
    "    'yr_renovated': [0, 2015, 0, 2018, 2010],\n",
    "    'zipcode': [98101, 98102, 98103, 98104, 98105],\n",
    "    'lat': [47.60, 47.61, 47.62, 47.63, 47.64],\n",
    "    'long': [-122.33, -122.34, -122.35, -122.36, -122.37],\n",
    "    'sqft_living15': [1400, 1900, 1600, 2300, 2100],\n",
    "    'sqft_lot15': [4000, 5000, 6000, 7000, 6500]\n",
    "}\n",
    "\n",
    "# Create DataFrame\n",
    "df_dummy = pd.DataFrame(data)\n",
    "\n",
    "# Drop columns 'id' and 'Unnamed: 0'\n",
    "df_dummy.drop(columns=['id', 'Unnamed: 0'], axis=1, inplace=True, errors='ignore')\n",
    "\n",
    "# Define features and target\n",
    "features = [\"floors\", \"waterfront\", \"lat\", \"bedrooms\", \"sqft_basement\", \"view\", \"bathrooms\", \"sqft_living15\", \"sqft_above\", \"grade\", \"sqft_living\"]\n",
    "X = df_dummy[features]\n",
    "y = df_dummy['price']\n",
    "\n",
    "# Split data into training and test sets\n",
    "X_train, X_test, y_train, y_test = train_test_split(X, y, test_size=0.2, random_state=42)\n",
    "\n",
    "# Perform second-order polynomial transformation\n",
    "poly = PolynomialFeatures(degree=2)\n",
    "X_train_poly = poly.fit_transform(X_train)\n",
    "X_test_poly = poly.transform(X_test)\n",
    "\n",
    "# Standardize the data\n",
    "scaler = StandardScaler()\n",
    "X_train_poly = scaler.fit_transform(X_train_poly)\n",
    "X_test_poly = scaler.transform(X_test_poly)\n",
    "\n",
    "# Create and fit Ridge regression model with alpha=0.1\n",
    "ridge_model = Ridge(alpha=0.1)\n",
    "ridge_model.fit(X_train_poly, y_train)\n",
    "\n",
    "# Predict and calculate R^2 using test data\n",
    "ridge_predictions = ridge_model.predict(X_test_poly)\n",
    "ridge_r2 = r2_score(y_test, ridge_predictions)\n",
    "print(f'Polynomial Ridge Regression R^2 value: {ridge_r2}')\n"
   ]
  },
  {
   "cell_type": "markdown",
   "id": "1eb2f6c3-643f-4e0a-8964-e97ef41ddf34",
   "metadata": {},
   "source": [
    "<h2>Table of Contents</h2>\n",
    "<div class=\"alert alert-block alert-info\" style=\"margin-top: 20px\">\n",
    "    <ul>\n",
    "    <li><a href=\"#Instructions\">Instructions</a></li>\n",
    "    <li><a href=\"#About-the-Dataset\">About the Dataset</a></li>\n",
    "    <li><a href=\"#Module-1:-Importing-Data-Sets\">Module 1: Importing Data </a></li>\n",
    "    <li><a href=\"#Module-2:-Data-Wrangling\">Module 2: Data Wrangling</a> </li>\n",
    "    <li><a href=\"#Module-3:-Exploratory-Data-Analysis\">Module 3: Exploratory Data Analysis</a></li>\n",
    "    <li><a href=\"#Module-4:-Model-Development\">Module 4: Model Development</a></li>\n",
    "    <li><a href=\"#Module-5:-Model-Evaluation-and-Refinement\">Module 5: Model Evaluation and Refinement</a></li>\n",
    "</a></li>\n",
    "</div>\n",
    "<p>Estimated Time Needed: <strong>75 min</strong></p>\n",
    "</div>\n",
    "\n",
    "<hr>\n"
   ]
  },
  {
   "cell_type": "markdown",
   "id": "861e2303-7a7d-428e-b04d-8d862986f65f",
   "metadata": {},
   "source": [
    "# Instructions\n"
   ]
  },
  {
   "cell_type": "markdown",
   "id": "0a9825a7-0d6a-4601-a2c5-ed0588c523e0",
   "metadata": {},
   "source": [
    "In this assignment, you are a Data Analyst working at a Real Estate Investment Trust. The Trust would like to start investing in Residential real estate. You are tasked with determining the market price of a house given a set of features. You will analyze and predict housing prices using attributes or features such as square footage, number of bedrooms, number of floors, and so on. This is a template notebook; your job is to complete the ten questions. Some hints to the questions are given.\n",
    "\n",
    "As you are completing this notebook, take and save the **screenshots** of the final outputs of your solutions (e.g., final charts, tables, calculation results etc.). They will need to be shared in the following Peer Review section of the Final Project module.\n"
   ]
  },
  {
   "cell_type": "markdown",
   "id": "d79957e4-5c04-4b4a-b2ac-20be5572aee0",
   "metadata": {},
   "source": [
    "# About the Dataset\n",
    "\n",
    "This dataset contains house sale prices for King County, which includes Seattle. It includes homes sold between May 2014 and May 2015. It was taken from [here](https://www.kaggle.com/harlfoxem/housesalesprediction?utm_medium=Exinfluencer&utm_source=Exinfluencer&utm_content=000026UJ&utm_term=10006555&utm_id=NA-SkillsNetwork-wwwcourseraorg-SkillsNetworkCoursesIBMDeveloperSkillsNetworkDA0101ENSkillsNetwork20235326-2022-01-01). It was also slightly modified for the purposes of this course. \n"
   ]
  },
  {
   "cell_type": "markdown",
   "id": "988085e2-4ae6-465e-b698-967c230187bf",
   "metadata": {},
   "source": [
    "| Variable      | Description                                                                                                 |\n",
    "| ------------- | ----------------------------------------------------------------------------------------------------------- |\n",
    "| id            | A notation for a house                                                                                      |\n",
    "| date          | Date house was sold                                                                                         |\n",
    "| price         | Price is prediction target                                                                                  |\n",
    "| bedrooms      | Number of bedrooms                                                                                          |\n",
    "| bathrooms     | Number of bathrooms                                                                                         |\n",
    "| sqft_living   | Square footage of the home                                                                                  |\n",
    "| sqft_lot      | Square footage of the lot                                                                                   |\n",
    "| floors        | Total floors (levels) in house                                                                              |\n",
    "| waterfront    | House which has a view to a waterfront                                                                      |\n",
    "| view          | Has been viewed                                                                                             |\n",
    "| condition     | How good the condition is overall                                                                           |\n",
    "| grade         | overall grade given to the housing unit, based on King County grading system                                |\n",
    "| sqft_above    | Square footage of house apart from basement                                                                 |\n",
    "| sqft_basement | Square footage of the basement                                                                              |\n",
    "| yr_built      | Built Year                                                                                                  |\n",
    "| yr_renovated  | Year when house was renovated                                                                               |\n",
    "| zipcode       | Zip code                                                                                                    |\n",
    "| lat           | Latitude coordinate                                                                                         |\n",
    "| long          | Longitude coordinate                                                                                        |\n",
    "| sqft_living15 | Living room area in 2015(implies-- some renovations) This might or might not have affected the lotsize area |\n",
    "| sqft_lot15    | LotSize area in 2015(implies-- some renovations)                                                            |\n"
   ]
  },
  {
   "cell_type": "markdown",
   "id": "94af3aa3-963b-40da-b66b-36169b03fe3b",
   "metadata": {},
   "source": [
    "## **Import the required libraries**\n"
   ]
  },
  {
   "cell_type": "code",
   "execution_count": 1,
   "id": "e63be067-9756-4ab7-ad31-d4d06bdfa85a",
   "metadata": {},
   "outputs": [],
   "source": [
    "# All Libraries required for this lab are listed below. The libraries pre-installed on Skills Network Labs are commented.\n",
    "# !mamba install -qy pandas==1.3.4 numpy==1.21.4 seaborn==0.9.0 matplotlib==3.5.0 scikit-learn==0.20.1\n",
    "# Note: If your environment doesn't support \"!mamba install\", use \"!pip install\""
   ]
  },
  {
   "cell_type": "code",
   "execution_count": 3,
   "id": "e2716d37-cf6c-4855-bfe1-8a89687a1002",
   "metadata": {},
   "outputs": [],
   "source": [
    "# Surpress warnings:\n",
    "def warn(*args, **kwargs):\n",
    "    pass\n",
    "import warnings\n",
    "warnings.warn = warn"
   ]
  },
  {
   "cell_type": "code",
   "execution_count": 4,
   "id": "451c963d-bfc1-407a-83f0-4b8abc58ec0b",
   "metadata": {},
   "outputs": [],
   "source": [
    "#!pip install -U scikit-learn"
   ]
  },
  {
   "cell_type": "code",
   "execution_count": 7,
   "id": "4044805f-edff-49e4-ab2b-b3fb52587c97",
   "metadata": {},
   "outputs": [
    {
     "name": "stdout",
     "output_type": "stream",
     "text": [
      "Note: you may need to restart the kernel to use updated packages.\n"
     ]
    },
    {
     "name": "stderr",
     "output_type": "stream",
     "text": [
      "ERROR: Could not find a version that satisfies the requirement piplite (from versions: none)\n",
      "\n",
      "[notice] A new release of pip is available: 24.3.1 -> 25.0.1\n",
      "[notice] To update, run: python.exe -m pip install --upgrade pip\n",
      "ERROR: No matching distribution found for piplite\n"
     ]
    },
    {
     "ename": "ModuleNotFoundError",
     "evalue": "No module named 'piplite'",
     "output_type": "error",
     "traceback": [
      "\u001b[1;31m---------------------------------------------------------------------------\u001b[0m",
      "\u001b[1;31mModuleNotFoundError\u001b[0m                       Traceback (most recent call last)",
      "Cell \u001b[1;32mIn[7], line 5\u001b[0m\n\u001b[0;32m      2\u001b[0m get_ipython()\u001b[38;5;241m.\u001b[39mrun_line_magic(\u001b[38;5;124m'\u001b[39m\u001b[38;5;124mpip\u001b[39m\u001b[38;5;124m'\u001b[39m, \u001b[38;5;124m'\u001b[39m\u001b[38;5;124minstall piplite\u001b[39m\u001b[38;5;124m'\u001b[39m)\n\u001b[0;32m      4\u001b[0m \u001b[38;5;66;03m# Import necessary libraries\u001b[39;00m\n\u001b[1;32m----> 5\u001b[0m \u001b[38;5;28;01mimport\u001b[39;00m\u001b[38;5;250m \u001b[39m\u001b[38;5;21;01mpiplite\u001b[39;00m\n\u001b[0;32m      6\u001b[0m \u001b[38;5;28;01mawait\u001b[39;00m piplite\u001b[38;5;241m.\u001b[39minstall([\u001b[38;5;124m'\u001b[39m\u001b[38;5;124mseaborn\u001b[39m\u001b[38;5;124m'\u001b[39m, \u001b[38;5;124m'\u001b[39m\u001b[38;5;124mmatplotlib\u001b[39m\u001b[38;5;124m'\u001b[39m, \u001b[38;5;124m'\u001b[39m\u001b[38;5;124mnumpy\u001b[39m\u001b[38;5;124m'\u001b[39m, \u001b[38;5;124m'\u001b[39m\u001b[38;5;124mpandas\u001b[39m\u001b[38;5;124m'\u001b[39m, \u001b[38;5;124m'\u001b[39m\u001b[38;5;124mscikit-learn\u001b[39m\u001b[38;5;124m'\u001b[39m])\n\u001b[0;32m      8\u001b[0m \u001b[38;5;28;01mimport\u001b[39;00m\u001b[38;5;250m \u001b[39m\u001b[38;5;21;01mpandas\u001b[39;00m\u001b[38;5;250m \u001b[39m\u001b[38;5;28;01mas\u001b[39;00m\u001b[38;5;250m \u001b[39m\u001b[38;5;21;01mpd\u001b[39;00m\n",
      "\u001b[1;31mModuleNotFoundError\u001b[0m: No module named 'piplite'"
     ]
    }
   ],
   "source": [
    "# Install the required module\n",
    "%pip install piplite\n",
    "\n",
    "# Import necessary libraries\n",
    "import piplite\n",
    "await piplite.install(['seaborn', 'matplotlib', 'numpy', 'pandas', 'scikit-learn'])\n",
    "\n",
    "import pandas as pd\n",
    "import matplotlib.pyplot as plt\n",
    "import numpy as np\n",
    "import seaborn as sns\n",
    "from sklearn.pipeline import Pipeline\n",
    "from sklearn.preprocessing import StandardScaler, PolynomialFeatures\n",
    "from sklearn.linear_model import LinearRegression\n",
    "%matplotlib inline"
   ]
  },
  {
   "cell_type": "markdown",
   "id": "5f88f83c-9c4d-46e3-9022-506946d9da4f",
   "metadata": {},
   "source": [
    "# Module 1: Importing Data Sets\n"
   ]
  },
  {
   "cell_type": "markdown",
   "id": "a81a4e55-334f-4be6-88a3-25b720e5c800",
   "metadata": {},
   "source": [
    "Download the dataset by running the cell below.\n"
   ]
  },
  {
   "cell_type": "code",
   "execution_count": null,
   "id": "c2bd28f7-e941-4bca-a887-aba3ea093262",
   "metadata": {},
   "outputs": [],
   "source": [
    "from pyodide.http import pyfetch\n",
    "\n",
    "async def download(url, filename):\n",
    "    response = await pyfetch(url)\n",
    "    if response.status == 200:\n",
    "        with open(filename, \"wb\") as f:\n",
    "            f.write(await response.bytes())"
   ]
  },
  {
   "cell_type": "code",
   "execution_count": null,
   "id": "5b5f4ada-4188-4812-955d-355b1a09c50e",
   "metadata": {},
   "outputs": [],
   "source": [
    "filepath='https://cf-courses-data.s3.us.cloud-object-storage.appdomain.cloud/IBMDeveloperSkillsNetwork-DA0101EN-SkillsNetwork/labs/FinalModule_Coursera/data/kc_house_data_NaN.csv'"
   ]
  },
  {
   "cell_type": "code",
   "execution_count": null,
   "id": "5d16c5c6-955f-46d6-a943-0181398e4daf",
   "metadata": {},
   "outputs": [],
   "source": [
    "await download(filepath, \"housing.csv\")\n",
    "file_name=\"housing.csv\""
   ]
  },
  {
   "cell_type": "markdown",
   "id": "12deae33-89d4-4cf7-a923-438061070e4c",
   "metadata": {},
   "source": [
    "Load the csv:\n"
   ]
  },
  {
   "cell_type": "code",
   "execution_count": null,
   "id": "ffe53430-fc59-4a90-913f-5104ce4e2bf4",
   "metadata": {},
   "outputs": [],
   "source": [
    "df = pd.read_csv(file_name)"
   ]
  },
  {
   "cell_type": "markdown",
   "id": "b8242c7d-8748-48eb-abcf-57a3dee0986a",
   "metadata": {},
   "source": [
    "> Note: This version of the lab is working on JupyterLite, which requires the dataset to be downloaded to the interface.While working on the downloaded version of this notebook on their local machines(Jupyter Anaconda), the learners can simply **skip the steps above,** and simply use the URL directly in the `pandas.read_csv()` function. You can uncomment and run the statements in the cell below.\n"
   ]
  },
  {
   "cell_type": "code",
   "execution_count": null,
   "id": "60d5d0a3-b2d1-434f-921f-b0fc0a2c4d1c",
   "metadata": {},
   "outputs": [],
   "source": [
    "#filepath='https://cf-courses-data.s3.us.cloud-object-storage.appdomain.cloud/IBMDeveloperSkillsNetwork-DA0101EN-SkillsNetwork/labs/FinalModule_Coursera/data/kc_house_data_NaN.csv'\n",
    "#df = pd.read_csv(filepath, header=None)"
   ]
  },
  {
   "cell_type": "markdown",
   "id": "22a62a25-4d30-40be-a69c-d35b6b82adb1",
   "metadata": {},
   "source": [
    "We use the method <code>head</code> to display the first 5 columns of the dataframe.\n"
   ]
  },
  {
   "cell_type": "code",
   "execution_count": null,
   "id": "141be40b-79fc-4ee4-b4d0-8aef6f4678ce",
   "metadata": {},
   "outputs": [],
   "source": [
    "df.head()"
   ]
  },
  {
   "cell_type": "markdown",
   "id": "e85b0add-a885-47cc-878d-72c60236140a",
   "metadata": {},
   "source": [
    "### Question 1\n",
    "\n",
    "Display the data types of each column using the function dtypes. Take a screenshot of your code and output. You will need to submit the screenshot for the final project. \n"
   ]
  },
  {
   "cell_type": "code",
   "execution_count": 2,
   "id": "edf03d04-c219-4b27-8fbf-c7b48c043a51",
   "metadata": {},
   "outputs": [],
   "source": [
    "#Enter Your Code, Execute and take the Screenshot"
   ]
  },
  {
   "cell_type": "markdown",
   "id": "e00ce669-db97-4ba8-ad74-6123543c438d",
   "metadata": {},
   "source": [
    "We use the method describe to obtain a statistical summary of the dataframe.\n"
   ]
  },
  {
   "cell_type": "code",
   "execution_count": null,
   "id": "ef1b0916-48e3-4f79-b41d-00d4a12e0d68",
   "metadata": {},
   "outputs": [],
   "source": [
    "df.describe()"
   ]
  },
  {
   "cell_type": "markdown",
   "id": "3fa9617c-818e-4120-adf3-03c2f1eaf976",
   "metadata": {},
   "source": [
    "# Module 2: Data Wrangling\n"
   ]
  },
  {
   "cell_type": "markdown",
   "id": "eb28a6f2-def1-4ff7-a687-d4be654897f4",
   "metadata": {},
   "source": [
    "### Question 2\n",
    "\n",
    "Drop the columns <code>\"id\"</code>  and <code>\"Unnamed: 0\"</code> from axis 1 using the method <code>drop()</code>, then use the method <code>describe()</code> to obtain a statistical summary of the data. Make sure the <code>inplace</code> parameter is set to <code>True</code>. Take a screenshot of your code and output. You will need to submit the screenshot for the final project. \n"
   ]
  },
  {
   "cell_type": "code",
   "execution_count": null,
   "id": "35e86866-ad64-4b5f-a8a7-6b7acca11ad8",
   "metadata": {},
   "outputs": [],
   "source": [
    "#Enter Your Code, Execute and take the Screenshot"
   ]
  },
  {
   "cell_type": "markdown",
   "id": "a239d8d4-b20f-40d5-9ea0-30bfd8c34295",
   "metadata": {},
   "source": [
    "We can see we have missing values for the columns <code> bedrooms</code>  and <code> bathrooms </code>\n"
   ]
  },
  {
   "cell_type": "code",
   "execution_count": null,
   "id": "e3bd274c-040f-474b-affb-453092965492",
   "metadata": {},
   "outputs": [],
   "source": [
    "print(\"number of NaN values for the column bedrooms :\", df['bedrooms'].isnull().sum())\n",
    "print(\"number of NaN values for the column bathrooms :\", df['bathrooms'].isnull().sum())\n"
   ]
  },
  {
   "cell_type": "markdown",
   "id": "b94a3702-ab5c-4f98-a7ca-693bbb99b9ea",
   "metadata": {},
   "source": [
    "We can replace the missing values of the column <code>'bedrooms'</code> with the mean of the column  <code>'bedrooms' </code> using the method <code>replace()</code>. Don't forget to set the <code>inplace</code> parameter to <code>True</code>\n"
   ]
  },
  {
   "cell_type": "code",
   "execution_count": null,
   "id": "0c10d58f-d9cb-4408-8c61-cb7885c617be",
   "metadata": {},
   "outputs": [],
   "source": [
    "mean=df['bedrooms'].mean()\n",
    "df['bedrooms'].replace(np.nan,mean, inplace=True)"
   ]
  },
  {
   "cell_type": "markdown",
   "id": "9934f616-5cd2-4eef-ab4f-1381227e1db5",
   "metadata": {},
   "source": [
    "We also replace the missing values of the column <code>'bathrooms'</code> with the mean of the column  <code>'bathrooms' </code> using the method <code>replace()</code>. Don't forget to set the <code> inplace </code>  parameter top <code> True </code>\n"
   ]
  },
  {
   "cell_type": "code",
   "execution_count": null,
   "id": "56ead976-1859-4309-8b4a-4ac89f9494bb",
   "metadata": {},
   "outputs": [],
   "source": [
    "mean=df['bathrooms'].mean()\n",
    "df['bathrooms'].replace(np.nan,mean, inplace=True)"
   ]
  },
  {
   "cell_type": "code",
   "execution_count": null,
   "id": "6d272b4f-86c3-4ad6-ba6c-8086bf264344",
   "metadata": {},
   "outputs": [],
   "source": [
    "print(\"number of NaN values for the column bedrooms :\", df['bedrooms'].isnull().sum())\n",
    "print(\"number of NaN values for the column bathrooms :\", df['bathrooms'].isnull().sum())"
   ]
  },
  {
   "cell_type": "markdown",
   "id": "90d14224-b7b9-4df4-b26a-49575baf8f90",
   "metadata": {},
   "source": [
    "# Module 3: Exploratory Data Analysis\n"
   ]
  },
  {
   "cell_type": "markdown",
   "id": "56249a0b-f423-4361-9080-ea5090cea30b",
   "metadata": {},
   "source": [
    "### Question 3\n",
    "\n",
    "Use the method <code>value_counts</code> to count the number of houses with unique floor values, use the method <code>.to_frame()</code> to convert it to a data frame. Take a screenshot of your code and output. You will need to submit the screenshot for the final project. \n"
   ]
  },
  {
   "cell_type": "code",
   "execution_count": null,
   "id": "7bcb5988-7052-4e3d-a11a-53047ce26bc3",
   "metadata": {},
   "outputs": [],
   "source": [
    "#Enter Your Code, Execute and take the Screenshot"
   ]
  },
  {
   "cell_type": "markdown",
   "id": "28ec67fc-df7c-4540-b513-b62c56f2544f",
   "metadata": {},
   "source": [
    "### Question 4\n",
    "\n",
    "Use the function <code>boxplot</code> in the seaborn library  to  determine whether houses with a waterfront view or without a waterfront view have more price outliers. Take a screenshot of your code and boxplot. You will need to submit the screenshot for the final project. \n"
   ]
  },
  {
   "cell_type": "code",
   "execution_count": null,
   "id": "1f8a951d-e15c-4b49-8495-a1ab9cdfc9d2",
   "metadata": {},
   "outputs": [],
   "source": []
  },
  {
   "cell_type": "markdown",
   "id": "6ec97c07-1988-4482-ae3c-d32427d3b275",
   "metadata": {},
   "source": [
    "### Question 5\n",
    "\n",
    "Use the function <code>regplot</code>  in the seaborn library  to  determine if the feature <code>sqft_above</code> is negatively or positively correlated with price. Take a screenshot of your code and scatterplot. You will need to submit the screenshot for the final project. \n"
   ]
  },
  {
   "cell_type": "code",
   "execution_count": null,
   "id": "9c94f4ff-9243-4abe-9778-f8ee5aeace30",
   "metadata": {},
   "outputs": [],
   "source": [
    "#Enter Your Code, Execute and take the Screenshot"
   ]
  },
  {
   "cell_type": "markdown",
   "id": "0dd09809-132f-43e5-b453-edeb68e50bbf",
   "metadata": {},
   "source": [
    "We can use the Pandas method <code>corr()</code>  to find the feature other than price that is most correlated with price.\n"
   ]
  },
  {
   "cell_type": "code",
   "execution_count": null,
   "id": "3b29a5ae-b6ce-4296-b508-0a71f4087bf6",
   "metadata": {},
   "outputs": [],
   "source": [
    "df_numeric = df.select_dtypes(include=[np.number])\n",
    "df_numeric.corr()['price'].sort_values()"
   ]
  },
  {
   "cell_type": "markdown",
   "id": "c1027e76-7908-4f01-981d-446dbf634c6f",
   "metadata": {},
   "source": [
    "# Module 4: Model Development\n"
   ]
  },
  {
   "cell_type": "markdown",
   "id": "e784984c-8c1c-4d84-88f6-aa3ba5d76923",
   "metadata": {},
   "source": [
    "We can Fit a linear regression model using the  longitude feature <code>'long'</code> and  caculate the R^2.\n"
   ]
  },
  {
   "cell_type": "code",
   "execution_count": null,
   "id": "69e04ee3-5d5e-438b-81a8-f2f7cad9669e",
   "metadata": {},
   "outputs": [],
   "source": [
    "X = df[['long']]\n",
    "Y = df['price']\n",
    "lm = LinearRegression()\n",
    "lm.fit(X,Y)\n",
    "lm.score(X, Y)"
   ]
  },
  {
   "cell_type": "markdown",
   "id": "1ed73cfe-1482-41a4-b6e6-2e4b9cf483c8",
   "metadata": {},
   "source": [
    "### Question  6\n",
    "\n",
    "Fit a linear regression model to predict the <code>'price'</code> using the feature <code>'sqft_living'</code> then calculate the R^2. Take a screenshot of your code and the value of the R^2. You will need to submit it for the final project.\n"
   ]
  },
  {
   "cell_type": "code",
   "execution_count": null,
   "id": "e88df790-916b-409a-b834-4755949292c8",
   "metadata": {},
   "outputs": [],
   "source": [
    "#Enter Your Code, Execute and take the Screenshot"
   ]
  },
  {
   "cell_type": "markdown",
   "id": "7a02d8a6-d98b-4e6c-b302-94dee20dfb2c",
   "metadata": {},
   "source": [
    "### Question 7\n",
    "\n",
    "Fit a linear regression model to predict the <code>'price'</code> using the list of features:\n"
   ]
  },
  {
   "cell_type": "code",
   "execution_count": null,
   "id": "623cf61b-4da0-40c5-964b-6bd2a7454b7f",
   "metadata": {},
   "outputs": [],
   "source": [
    "features =[\"floors\", \"waterfront\",\"lat\" ,\"bedrooms\" ,\"sqft_basement\" ,\"view\" ,\"bathrooms\",\"sqft_living15\",\"sqft_above\",\"grade\",\"sqft_living\"]     "
   ]
  },
  {
   "cell_type": "markdown",
   "id": "b82f610c-c5bc-4dd7-8d3e-60b6a6cc0c3b",
   "metadata": {},
   "source": [
    "Then calculate the R^2. Take a screenshot of your code and the value of the R^2. You will need to submit it for the final project.\n"
   ]
  },
  {
   "cell_type": "code",
   "execution_count": null,
   "id": "dbe90d26-f152-4532-ac4f-549d2afd2ab4",
   "metadata": {},
   "outputs": [],
   "source": [
    "#Enter Your Code, Execute and take the Screenshot"
   ]
  },
  {
   "cell_type": "markdown",
   "id": "6b43b2a5-4412-4c39-844a-cfd62539aaa2",
   "metadata": {},
   "source": [
    "### This will help with Question 8\n",
    "\n",
    "Create a list of tuples, the first element in the tuple contains the name of the estimator:\n",
    "\n",
    "<code>'scale'</code>\n",
    "\n",
    "<code>'polynomial'</code>\n",
    "\n",
    "<code>'model'</code>\n",
    "\n",
    "The second element in the tuple  contains the model constructor\n",
    "\n",
    "<code>StandardScaler()</code>\n",
    "\n",
    "<code>PolynomialFeatures(include_bias=False)</code>\n",
    "\n",
    "<code>LinearRegression()</code>\n"
   ]
  },
  {
   "cell_type": "code",
   "execution_count": null,
   "id": "7003a557-5652-4965-967a-d4a03e8ca30e",
   "metadata": {},
   "outputs": [],
   "source": [
    "Input=[('scale',StandardScaler()),('polynomial', PolynomialFeatures(include_bias=False)),('model',LinearRegression())]"
   ]
  },
  {
   "cell_type": "markdown",
   "id": "2f4e191b-c986-45a2-9ab0-c7696f46f194",
   "metadata": {},
   "source": [
    "### Question 8\n",
    "\n",
    "Use the list to create a pipeline object to predict the 'price', fit the object using the features in the list <code>features</code>, and calculate the R^2. Take a screenshot of your code and the value of the R^2. You will need to submit it for the final project.\n"
   ]
  },
  {
   "cell_type": "code",
   "execution_count": null,
   "id": "cd0333bf-0844-4eb5-8ce3-ebc6ccc25340",
   "metadata": {},
   "outputs": [],
   "source": [
    "#Enter Your Code, Execute and take the Screenshot"
   ]
  },
  {
   "cell_type": "markdown",
   "id": "9076baa1-54f9-454d-9dee-96dedd197257",
   "metadata": {},
   "source": [
    "# Module 5: Model Evaluation and Refinement\n"
   ]
  },
  {
   "cell_type": "markdown",
   "id": "18d095dd-337f-4e7a-b75e-c8f9352d9fd7",
   "metadata": {},
   "source": [
    "Import the necessary modules:\n"
   ]
  },
  {
   "cell_type": "code",
   "execution_count": null,
   "id": "f8bb0cc0-f5ea-4958-9e4d-2850fffac834",
   "metadata": {},
   "outputs": [],
   "source": [
    "from sklearn.model_selection import cross_val_score\n",
    "from sklearn.model_selection import train_test_split\n",
    "print(\"done\")"
   ]
  },
  {
   "cell_type": "markdown",
   "id": "504c1040-c713-43ff-8a92-fcab5621f7ce",
   "metadata": {},
   "source": [
    "We will split the data into training and testing sets:\n"
   ]
  },
  {
   "cell_type": "code",
   "execution_count": null,
   "id": "b356a37b-a117-4a9a-a900-4dff997a85bd",
   "metadata": {},
   "outputs": [],
   "source": [
    "features =[\"floors\", \"waterfront\",\"lat\" ,\"bedrooms\" ,\"sqft_basement\" ,\"view\" ,\"bathrooms\",\"sqft_living15\",\"sqft_above\",\"grade\",\"sqft_living\"]    \n",
    "X = df[features]\n",
    "Y = df['price']\n",
    "\n",
    "x_train, x_test, y_train, y_test = train_test_split(X, Y, test_size=0.15, random_state=1)\n",
    "\n",
    "\n",
    "print(\"number of test samples:\", x_test.shape[0])\n",
    "print(\"number of training samples:\",x_train.shape[0])"
   ]
  },
  {
   "cell_type": "markdown",
   "id": "18f186df-7395-463c-829f-7af1d7eca211",
   "metadata": {},
   "source": [
    "### Question 9\n",
    "\n",
    "Create and fit a Ridge regression object using the training data, set the regularization parameter to 0.1, and calculate the R^2 using the test data. Take a screenshot of your code and the value of the R^2. You will need to submit it for the final project.\n"
   ]
  },
  {
   "cell_type": "code",
   "execution_count": null,
   "id": "1c6ce1c2-db6c-41c0-bd97-659b8cf495fa",
   "metadata": {},
   "outputs": [],
   "source": [
    "from sklearn.linear_model import Ridge"
   ]
  },
  {
   "cell_type": "code",
   "execution_count": null,
   "id": "b7e78a9a-691a-49cf-96e7-dbdfcd66f0d0",
   "metadata": {},
   "outputs": [],
   "source": [
    "#Enter Your Code, Execute and take the Screenshot"
   ]
  },
  {
   "cell_type": "markdown",
   "id": "799acdde-e889-4a1c-9093-292a0399a7f1",
   "metadata": {},
   "source": [
    "### Question 10\n",
    "\n",
    "Perform a second order polynomial transform on both the training data and testing data. Create and fit a Ridge regression object using the training data, set the regularisation parameter to 0.1, and calculate the R^2 utilising the test data provided. Take a screenshot of your code and the R^2. You will need to submit it for the final project.\n"
   ]
  },
  {
   "cell_type": "code",
   "execution_count": null,
   "id": "2edbac09-23c2-4adc-b106-9c04b920ae1d",
   "metadata": {},
   "outputs": [],
   "source": [
    "#Enter Your Code, Execute and take the Screenshot"
   ]
  },
  {
   "cell_type": "markdown",
   "id": "d67b603b-e243-4974-804f-bf6162dc217d",
   "metadata": {},
   "source": [
    "<p>Once you complete your notebook you will have to share it. You can download the notebook by navigating to \"File\" and clicking on \"Download\" button.\n",
    "        <p><img width=\"600\" src=\"https://cf-courses-data.s3.us.cloud-object-storage.appdomain.cloud/IBMDeveloperSkillsNetwork-DA0101EN-SkillsNetwork/labs/Module%206/images/DA0101EN_FA_Image21.png\" alt=\"share notebook\" style=\"display: block; margin-left: auto; margin-right: auto;\"></p>\n",
    "        <p></p>\n",
    "<p>This will save the (.ipynb) file on your computer. Once saved, you can upload this file in the \"My Submission\" tab, of the \"Peer-graded Assignment\" section.  \n",
    "          \n"
   ]
  },
  {
   "cell_type": "markdown",
   "id": "d8975620-ce1b-46cf-8386-286ce5a5e1ea",
   "metadata": {},
   "source": [
    "<h2>About the Authors:</h2> \n",
    "\n",
    "<a href=\"https://www.linkedin.com/in/joseph-s-50398b136/?utm_medium=Exinfluencer&utm_source=Exinfluencer&utm_content=000026UJ&utm_term=10006555&utm_id=NA-SkillsNetwork-Channel-SkillsNetworkCoursesIBMDeveloperSkillsNetworkDA0101ENSkillsNetwork20235326-2022-01-01\">Joseph Santarcangelo</a> has a PhD in Electrical Engineering, his research focused on using machine learning, signal processing, and computer vision to determine how videos impact human cognition. Joseph has been working for IBM since he completed his PhD.\n"
   ]
  },
  {
   "cell_type": "markdown",
   "id": "af381f97-3cdd-4e40-a256-71f2410d67a1",
   "metadata": {},
   "source": [
    "Other contributors: <a href=\"https://www.linkedin.com/in/michelleccarey/?utm_medium=Exinfluencer&utm_source=Exinfluencer&utm_content=000026UJ&utm_term=10006555&utm_id=NA-SkillsNetwork-Channel-SkillsNetworkCoursesIBMDeveloperSkillsNetworkDA0101ENSkillsNetwork20235326-2022-01-01\">Michelle Carey</a>, <a href=\"https://www.linkedin.com/in/jiahui-mavis-zhou-a4537814a?utm_medium=Exinfluencer&utm_source=Exinfluencer&utm_content=000026UJ&utm_term=10006555&utm_id=NA-SkillsNetwork-Channel-SkillsNetworkCoursesIBMDeveloperSkillsNetworkDA0101ENSkillsNetwork20235326-2022-01-01\">Mavis Zhou</a>\n"
   ]
  },
  {
   "cell_type": "markdown",
   "id": "fe0c2c88-0b8e-4b92-b8a0-313aaad4e3e2",
   "metadata": {},
   "source": [
    "\n",
    "## <h3 align=\"center\"> © IBM Corporation 2020. All rights reserved. <h3/>\n",
    "<!--## Change Log\n",
    "\n",
    "| Date (YYYY-MM-DD) | Version | Changed By      | Change Description                           |\n",
    "| ----------------- | ------- | --------------- | -------------------------------------------- |\n",
    "| 2020-12-01        | 2.2     | Aije Egwaikhide | Coverted Data describtion from text to table |\n",
    "| 2020-10-06        | 2.1     | Lakshmi Holla   | Changed markdown instruction of Question1    |\n",
    "| 2020-08-27        | 2.0     | Malika Singla   | Added lab to GitLab                          |\n",
    "| 2022-06-13        | 2.3     | Svitlana Kramar | Updated Notebook sharing instructions        |\n",
    "| <hr>              |         |                 |                                              |\n",
    "\n",
    "\n",
    "--!>\n",
    "<p>\n"
   ]
  }
 ],
 "metadata": {
  "kernelspec": {
   "display_name": "Python 3",
   "language": "python",
   "name": "python3"
  },
  "language_info": {
   "codemirror_mode": {
    "name": "ipython",
    "version": 3
   },
   "file_extension": ".py",
   "mimetype": "text/x-python",
   "name": "python",
   "nbconvert_exporter": "python",
   "pygments_lexer": "ipython3",
   "version": "3.13.2"
  },
  "prev_pub_hash": "c38626bfb2a4d62e21d4b34234dd2d6ada473733f3541d1e25de3f51adec1fff"
 },
 "nbformat": 4,
 "nbformat_minor": 4
}
