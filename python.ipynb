{
 "cells": [
  {
   "cell_type": "code",
   "execution_count": 2,
   "metadata": {},
   "outputs": [
    {
     "name": "stdout",
     "output_type": "stream",
     "text": [
      "        Date    Open    High     Low   Close   Volume  Adj Close\n",
      "0 2024-03-01  620.06  747.56  581.76  661.68  4284612     677.78\n",
      "1 2024-03-02  652.83  730.22  583.76  695.36  1680837     692.48\n",
      "2 2024-03-03  698.40  700.17  598.62  665.44  1394921     678.64\n",
      "3 2024-03-04  641.84  708.75  582.89  652.57  4104981     677.28\n",
      "4 2024-03-05  665.06  749.25  588.79  684.41  2523969     670.76\n"
     ]
    }
   ],
   "source": [
    "import pandas as pd\n",
    "import numpy as np\n",
    "\n",
    "# Creating dummy data\n",
    "data = {\n",
    "    \"Date\": pd.date_range(start=\"2024-03-01\", periods=10, freq=\"D\"),\n",
    "    \"Open\": np.random.uniform(600, 700, 10).round(2),\n",
    "    \"High\": np.random.uniform(700, 750, 10).round(2),\n",
    "    \"Low\": np.random.uniform(580, 600, 10).round(2),\n",
    "    \"Close\": np.random.uniform(650, 700, 10).round(2),\n",
    "    \"Volume\": np.random.randint(1000000, 5000000, 10),\n",
    "    \"Adj Close\": np.random.uniform(650, 700, 10).round(2),\n",
    "}\n",
    "\n",
    "# Creating a DataFrame\n",
    "tesla_data = pd.DataFrame(data)\n",
    "\n",
    "# Reset index, save, and display first five rows\n",
    "tesla_data.reset_index(drop=True, inplace=True)\n",
    "print(tesla_data.head())\n",
    "\n",
    "# Save to CSV (optional)\n",
    "tesla_data.to_csv(\"tesla_stock_data_dummy.csv\", index=False)\n"
   ]
  }
 ],
 "metadata": {
  "kernelspec": {
   "display_name": "Python 3",
   "language": "python",
   "name": "python3"
  },
  "language_info": {
   "codemirror_mode": {
    "name": "ipython",
    "version": 3
   },
   "file_extension": ".py",
   "mimetype": "text/x-python",
   "name": "python",
   "nbconvert_exporter": "python",
   "pygments_lexer": "ipython3",
   "version": "3.13.2"
  }
 },
 "nbformat": 4,
 "nbformat_minor": 2
}
