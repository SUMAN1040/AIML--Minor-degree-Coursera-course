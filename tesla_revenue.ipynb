{
 "cells": [
  {
   "cell_type": "code",
   "execution_count": 1,
   "metadata": {},
   "outputs": [
    {
     "name": "stdout",
     "output_type": "stream",
     "text": [
      "         Date  Revenue\n",
      "15 2026-12-31    23928\n",
      "16 2027-03-31    22680\n",
      "17 2027-06-30    24927\n",
      "18 2027-09-30    12978\n",
      "19 2027-12-31    16943\n"
     ]
    },
    {
     "name": "stderr",
     "output_type": "stream",
     "text": [
      "C:\\Users\\skdey\\AppData\\Local\\Temp\\ipykernel_13756\\199026811.py:6: FutureWarning: 'Q' is deprecated and will be removed in a future version, please use 'QE' instead.\n",
      "  \"Date\": pd.date_range(start=\"2023-01-01\", periods=20, freq=\"Q\"),  # Quarterly data for 5 years\n"
     ]
    }
   ],
   "source": [
    "import pandas as pd\n",
    "import numpy as np\n",
    "\n",
    "# Create dummy Tesla revenue data\n",
    "data = {\n",
    "    \"Date\": pd.date_range(start=\"2023-01-01\", periods=20, freq=\"Q\"),  # Quarterly data for 5 years\n",
    "    \"Revenue\": np.random.randint(10000, 50000, size=20)  # Random revenue values in millions\n",
    "}\n",
    "\n",
    "# Convert to DataFrame\n",
    "tesla_revenue = pd.DataFrame(data)\n",
    "\n",
    "# Display the last five rows\n",
    "print(tesla_revenue.tail())\n"
   ]
  }
 ],
 "metadata": {
  "kernelspec": {
   "display_name": "Python 3",
   "language": "python",
   "name": "python3"
  },
  "language_info": {
   "codemirror_mode": {
    "name": "ipython",
    "version": 3
   },
   "file_extension": ".py",
   "mimetype": "text/x-python",
   "name": "python",
   "nbconvert_exporter": "python",
   "pygments_lexer": "ipython3",
   "version": "3.13.2"
  }
 },
 "nbformat": 4,
 "nbformat_minor": 2
}
